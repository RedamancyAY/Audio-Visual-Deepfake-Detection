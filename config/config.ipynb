{
 "cells": [
  {
   "cell_type": "code",
   "execution_count": 4,
   "id": "bb80d351-a69f-4e02-815e-59d471e211cd",
   "metadata": {
    "execution": {
     "iopub.execute_input": "2023-03-13T03:07:43.401382Z",
     "iopub.status.busy": "2023-03-13T03:07:43.400773Z",
     "iopub.status.idle": "2023-03-13T03:07:43.406152Z",
     "shell.execute_reply": "2023-03-13T03:07:43.405219Z",
     "shell.execute_reply.started": "2023-03-13T03:07:43.401341Z"
    }
   },
   "outputs": [],
   "source": [
    "import os\n",
    "\n",
    "from yacs.config import CfgNode as ConfigurationNode"
   ]
  },
  {
   "cell_type": "code",
   "execution_count": 1,
   "id": "e839a102-d37e-46fc-bc58-7c0beb6bec20",
   "metadata": {
    "execution": {
     "iopub.execute_input": "2023-03-13T03:07:33.608848Z",
     "iopub.status.busy": "2023-03-13T03:07:33.608175Z",
     "iopub.status.idle": "2023-03-13T03:07:33.639722Z",
     "shell.execute_reply": "2023-03-13T03:07:33.638820Z",
     "shell.execute_reply.started": "2023-03-13T03:07:33.608732Z"
    },
    "tags": [
     "style-activity"
    ]
   },
   "outputs": [],
   "source": [
    "from .dataset import ALL_DATASETS, get_dataset_cfg"
   ]
  },
  {
   "cell_type": "code",
   "execution_count": 1,
   "id": "0681f407-86e7-4261-aa93-4027305508d9",
   "metadata": {
    "execution": {
     "iopub.execute_input": "2023-03-13T03:07:33.608848Z",
     "iopub.status.busy": "2023-03-13T03:07:33.608175Z",
     "iopub.status.idle": "2023-03-13T03:07:33.639722Z",
     "shell.execute_reply": "2023-03-13T03:07:33.638820Z",
     "shell.execute_reply.started": "2023-03-13T03:07:33.608732Z"
    },
    "tags": [
     "active-ipynb"
    ]
   },
   "outputs": [],
   "source": [
    "from dataset import ALL_DATASETS, get_dataset_cfg"
   ]
  },
  {
   "cell_type": "markdown",
   "id": "bdfb0188-9eba-47e6-b376-17d0c90639b3",
   "metadata": {},
   "source": [
    "# 默认配置"
   ]
  },
  {
   "cell_type": "code",
   "execution_count": 8,
   "id": "7fe289cd-0ac9-4171-aff3-db2e24fccc49",
   "metadata": {
    "execution": {
     "iopub.execute_input": "2023-03-13T03:08:56.879363Z",
     "iopub.status.busy": "2023-03-13T03:08:56.878731Z",
     "iopub.status.idle": "2023-03-13T03:08:56.884875Z",
     "shell.execute_reply": "2023-03-13T03:08:56.883908Z",
     "shell.execute_reply.started": "2023-03-13T03:08:56.879318Z"
    }
   },
   "outputs": [],
   "source": [
    "__C = ConfigurationNode()\n",
    "__C.DATASET = get_dataset_cfg()"
   ]
  },
  {
   "cell_type": "code",
   "execution_count": 9,
   "id": "470ca967-c03a-468d-bba8-b5ea77b248ce",
   "metadata": {
    "execution": {
     "iopub.execute_input": "2023-03-13T03:08:58.152895Z",
     "iopub.status.busy": "2023-03-13T03:08:58.152279Z",
     "iopub.status.idle": "2023-03-13T03:08:58.159697Z",
     "shell.execute_reply": "2023-03-13T03:08:58.158750Z",
     "shell.execute_reply.started": "2023-03-13T03:08:58.152853Z"
    }
   },
   "outputs": [],
   "source": [
    "__C.DataAug = ConfigurationNode()\n",
    "# 1. sample based\n",
    "__C.DataAug.jpeg_compression = True\n",
    "__C.DataAug.gaussian_noise = False\n",
    "__C.DataAug.color_jitter = False\n",
    "__C.DataAug.gaussian_filter = False\n",
    "__C.DataAug.cv_pil_compression = False\n",
    "\n",
    "# 1.2 audio\n",
    "__C.DataAug.random_align = False\n",
    "__C.DataAug.random_speed = False\n",
    "\n",
    "\n",
    "# batch based\n",
    "__C.DataAug.flip = True\n",
    "__C.DataAug.rotate = True\n",
    "__C.DataAug.gaussianBlur = False\n",
    "__C.DataAug.gaussianBlur_kernel = 5\n",
    "__C.DataAug.gaussianBlur_p = 0.5\n",
    "__C.DataAug.ISONoise = False\n",
    "__C.DataAug.colorJitter = False\n",
    "__C.DataAug.normalize = False\n",
    "__C.DataAug.crop_resize = False"
   ]
  },
  {
   "cell_type": "code",
   "execution_count": 11,
   "id": "ff1491f2-cfcd-40bc-8cc4-f6add2ab3802",
   "metadata": {
    "execution": {
     "iopub.execute_input": "2023-03-13T03:09:02.863361Z",
     "iopub.status.busy": "2023-03-13T03:09:02.862299Z",
     "iopub.status.idle": "2023-03-13T03:09:02.873299Z",
     "shell.execute_reply": "2023-03-13T03:09:02.872319Z",
     "shell.execute_reply.started": "2023-03-13T03:09:02.863317Z"
    }
   },
   "outputs": [],
   "source": [
    "__C.MODEL = ConfigurationNode()\n",
    "__C.MODEL.epochs = 200\n",
    "__C.MODEL.optimizer = \"AdamW\"\n",
    "__C.MODEL.weight_decay = 0.01\n",
    "__C.MODEL.lr = 0.0001\n",
    "__C.MODEL.lr_decay_factor = 0.5\n",
    "__C.MODEL.lr_scheduler = \"linear\"\n",
    "__C.MODEL.warmup_epochs = 10\n",
    "__C.MODEL.label_smoothing = 0.1\n",
    "\n",
    "__C.MODEL.normalize = False\n",
    "__C.MODEL.normalize_mean = [0.5, 0.5, 0.5]\n",
    "__C.MODEL.normalize_std = [0.5, 0.5, 0.5]\n",
    "__C.MODEL.preprocess_audio = True\n",
    "__C.MODEL.out_channels = [32, 64, 128, 256]\n",
    "__C.MODEL.mlp_ratios = [4, 4, 4, 4]\n",
    "__C.MODEL.depths = [3, 3, 9, 3]\n",
    "__C.MODEL.contrast_loss_weight = 0.1\n",
    "__C.MODEL.contrast_loss_alpha = 0.4\n",
    "__C.MODEL.ce_loss = \"normal\"\n",
    "__C.MODEL.stream_head = True\n",
    "__C.MODEL.CS = False\n",
    "__C.MODEL.loss_total_contrast = True\n",
    "__C.MODEL.attn_dropout = 0.0\n",
    "__C.MODEL.style_aug = False\n",
    "__C.MODEL.shuffle_av = False\n",
    "__C.MODEL.adv_loss = True\n",
    "\n",
    "__C.MODEL.pretrained = True\n",
    "__C.MODEL.ensemble = False"
   ]
  },
  {
   "cell_type": "code",
   "execution_count": 45,
   "id": "20da406c-6406-4d38-b808-940e2d4ce2a8",
   "metadata": {
    "execution": {
     "iopub.execute_input": "2023-02-22T13:52:34.176792Z",
     "iopub.status.busy": "2023-02-22T13:52:34.176217Z",
     "iopub.status.idle": "2023-02-22T13:52:34.181336Z",
     "shell.execute_reply": "2023-02-22T13:52:34.180607Z",
     "shell.execute_reply.started": "2023-02-22T13:52:34.176751Z"
    }
   },
   "outputs": [],
   "source": [
    "def get_cfg_defaults(cfg_file=None, ablation=''):\n",
    "    \"\"\"\n",
    "    Get a yacs CfgNode object with default values\n",
    "    \"\"\"\n",
    "    # Return a clone so that the defaults will not be altered\n",
    "    # It will be subsequently overwritten with local YAML.\n",
    "    res = __C.clone()\n",
    "\n",
    "    if cfg_file is not None:\n",
    "\n",
    "        aug_file_path = os.path.join(os.path.split(cfg_file)[0], \"data_aug.yaml\")\n",
    "        if os.path.exists(aug_file_path):\n",
    "            res.merge_from_file(aug_file_path)\n",
    "            print(\"load aug yaml in \", aug_file_path)\n",
    "        \n",
    "        model_file_path = os.path.join(os.path.split(cfg_file)[0], \"0-model.yaml\")\n",
    "        if os.path.exists(model_file_path):\n",
    "            res.merge_from_file(model_file_path)\n",
    "            print(\"load model yaml in \", model_file_path)\n",
    "        \n",
    "        if ablation != '':\n",
    "            ablation_path = os.path.join(os.path.split(cfg_file)[0], \"%s.yaml\"%ablation)\n",
    "            res.merge_from_file(ablation_path)\n",
    "            print(\"load ablation yaml in \", ablation_path)\n",
    "            \n",
    "        res.merge_from_file(cfg_file)\n",
    "        \n",
    "\n",
    "    for _ds in ALL_DATASETS:\n",
    "        if _ds != res.DATASET.name:\n",
    "            res.DATASET.pop(_ds)\n",
    "\n",
    "    return res"
   ]
  }
 ],
 "metadata": {
  "jupytext": {
   "formats": "ipynb,py:light"
  },
  "kernelspec": {
   "display_name": "Python 3 (ipykernel)",
   "language": "python",
   "name": "python3"
  },
  "language_info": {
   "codemirror_mode": {
    "name": "ipython",
    "version": 3
   },
   "file_extension": ".py",
   "mimetype": "text/x-python",
   "name": "python",
   "nbconvert_exporter": "python",
   "pygments_lexer": "ipython3",
   "version": "3.9.16"
  }
 },
 "nbformat": 4,
 "nbformat_minor": 5
}
