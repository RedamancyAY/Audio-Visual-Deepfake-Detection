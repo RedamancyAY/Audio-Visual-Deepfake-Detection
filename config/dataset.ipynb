{
 "cells": [
  {
   "cell_type": "code",
   "execution_count": 4,
   "id": "08e2420c-6f8e-4882-8f0a-04e4d17d7100",
   "metadata": {
    "execution": {
     "iopub.execute_input": "2023-03-13T03:01:21.932981Z",
     "iopub.status.busy": "2023-03-13T03:01:21.932134Z",
     "iopub.status.idle": "2023-03-13T03:01:21.963936Z",
     "shell.execute_reply": "2023-03-13T03:01:21.963237Z",
     "shell.execute_reply.started": "2023-03-13T03:01:21.932937Z"
    }
   },
   "outputs": [],
   "source": [
    "from yacs.config import CfgNode as ConfigurationNode"
   ]
  },
  {
   "cell_type": "markdown",
   "id": "2eb98d70-c16d-473d-a50f-ba35bc1291e5",
   "metadata": {},
   "source": [
    "# 默认配置"
   ]
  },
  {
   "cell_type": "code",
   "execution_count": 7,
   "id": "467d2e3b-1cfc-44ac-b2fb-0014b307ded6",
   "metadata": {
    "execution": {
     "iopub.execute_input": "2023-03-13T03:02:03.111340Z",
     "iopub.status.busy": "2023-03-13T03:02:03.110743Z",
     "iopub.status.idle": "2023-03-13T03:02:03.116368Z",
     "shell.execute_reply": "2023-03-13T03:02:03.115396Z",
     "shell.execute_reply.started": "2023-03-13T03:02:03.111299Z"
    }
   },
   "outputs": [],
   "source": [
    "ALL_DATASETS = [\"FakeAVCeleb\", \"DF_TIMIT\", \"DFDC\"]"
   ]
  },
  {
   "cell_type": "code",
   "execution_count": 5,
   "id": "f24fe1c5-3e5f-4da4-a658-d278921bd6c5",
   "metadata": {
    "execution": {
     "iopub.execute_input": "2023-03-13T03:01:23.273259Z",
     "iopub.status.busy": "2023-03-13T03:01:23.272500Z",
     "iopub.status.idle": "2023-03-13T03:01:23.278802Z",
     "shell.execute_reply": "2023-03-13T03:01:23.277852Z",
     "shell.execute_reply.started": "2023-03-13T03:01:23.273220Z"
    }
   },
   "outputs": [],
   "source": [
    "def DF_TIMIT():\n",
    "    C = ConfigurationNode()\n",
    "    C.root_path = \"...../DeepfakeTIMIT\"\n",
    "    C.data_path = \"...../DF-TIMIT\"\n",
    "    C.video_quality = 'LQ' # LQ ○r HQ\n",
    "    C.splits = [0.75, 0.1, 0.15] # LQ ○r HQ\n",
    "    return C"
   ]
  },
  {
   "cell_type": "code",
   "execution_count": 8,
   "id": "5ad2d90b-de73-4417-9727-8a307af414c3",
   "metadata": {
    "execution": {
     "iopub.execute_input": "2023-03-13T03:05:15.715787Z",
     "iopub.status.busy": "2023-03-13T03:05:15.714942Z",
     "iopub.status.idle": "2023-03-13T03:05:15.722138Z",
     "shell.execute_reply": "2023-03-13T03:05:15.721168Z",
     "shell.execute_reply.started": "2023-03-13T03:05:15.715741Z"
    }
   },
   "outputs": [],
   "source": [
    "def FakeAVCeleb():\n",
    "    __C = ConfigurationNode()\n",
    "    __C.root_path = \"...../FakeAVCeleb_v1.2\"\n",
    "    __C.data_path = \"...../FakeAVCeleb+\"\n",
    "    __C.train_num=[1500, 1500, 500, 500]\n",
    "    __C.append_train_num=2000\n",
    "    __C.splits = [0.75, 0.1, 0.15]\n",
    "    __C.quality = 0 # 0 for raw, 23 for c23, 40 for c40\n",
    "    __C.method = None  # [\"fsgan\", \"wav2lip\", \"faceswap\"]\n",
    "    return __C"
   ]
  },
  {
   "cell_type": "code",
   "execution_count": 11,
   "id": "72b89aa9-36a0-407b-9f82-c49b70121acf",
   "metadata": {
    "execution": {
     "iopub.execute_input": "2023-03-13T03:06:16.970547Z",
     "iopub.status.busy": "2023-03-13T03:06:16.969946Z",
     "iopub.status.idle": "2023-03-13T03:06:16.976804Z",
     "shell.execute_reply": "2023-03-13T03:06:16.975812Z",
     "shell.execute_reply.started": "2023-03-13T03:06:16.970504Z"
    }
   },
   "outputs": [],
   "source": [
    "def DFDC():\n",
    "    __C = ConfigurationNode()\n",
    "    __C.root_path = \"...../dfdc\"\n",
    "    __C.data_path = \"...../DFDC\"\n",
    "    __C.train_splits = [0.75, 0.1, 0.15]\n",
    "    __C.subset_splits = [4500, 4500, 9000]\n",
    "    return __C"
   ]
  },
  {
   "cell_type": "code",
   "execution_count": 6,
   "id": "2218cd98-cb0b-41e2-845f-42322058d778",
   "metadata": {
    "execution": {
     "iopub.execute_input": "2023-03-13T03:01:24.030731Z",
     "iopub.status.busy": "2023-03-13T03:01:24.029948Z",
     "iopub.status.idle": "2023-03-13T03:01:24.036838Z",
     "shell.execute_reply": "2023-03-13T03:01:24.035899Z",
     "shell.execute_reply.started": "2023-03-13T03:01:24.030690Z"
    }
   },
   "outputs": [],
   "source": [
    "def get_dataset_cfg():\n",
    "    __C = ConfigurationNode()\n",
    "    __C.video_n_frames = 10\n",
    "    __C.video_img_size = 224\n",
    "    __C.video_in_chans = 3\n",
    "    __C.face_detect_method = None\n",
    "    __C.use_audio = True\n",
    "    __C.audio_freq = 16000\n",
    "    __C.audio_length = 48000\n",
    "    __C.audio_features = None\n",
    "\n",
    "\n",
    "    __C.name = 'DFDC'\n",
    "    __C.batch_size = 32\n",
    "    __C.test_batch_size = 1\n",
    "    __C.num_workers = 10\n",
    "    __C.train_on_frame = False\n",
    "    __C.train_on_sec = False\n",
    "    __C.train_on_mouth = False\n",
    "    \n",
    "    __C.DF_TIMIT = DF_TIMIT()\n",
    "    __C.FakeAVCeleb = FakeAVCeleb()\n",
    "    __C.DFDC = DFDC()\n",
    "    return __C"
   ]
  },
  {
   "cell_type": "code",
   "execution_count": null,
   "id": "3f139743-2f05-40ec-a342-14a56b307261",
   "metadata": {},
   "outputs": [],
   "source": []
  }
 ],
 "metadata": {
  "jupytext": {
   "formats": "ipynb,py:light"
  },
  "kernelspec": {
   "display_name": "Python 3 (ipykernel)",
   "language": "python",
   "name": "python3"
  },
  "language_info": {
   "codemirror_mode": {
    "name": "ipython",
    "version": 3
   },
   "file_extension": ".py",
   "mimetype": "text/x-python",
   "name": "python",
   "nbconvert_exporter": "python",
   "pygments_lexer": "ipython3",
   "version": "3.9.16"
  }
 },
 "nbformat": 4,
 "nbformat_minor": 5
}
