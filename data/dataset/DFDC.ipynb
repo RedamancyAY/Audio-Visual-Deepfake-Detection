{
 "cells": [
  {
   "cell_type": "code",
   "execution_count": 86,
   "id": "4d1c6afd-c40c-41c4-955a-ee19b9c561ab",
   "metadata": {
    "execution": {
     "iopub.execute_input": "2023-03-01T11:06:58.784176Z",
     "iopub.status.busy": "2023-03-01T11:06:58.781257Z",
     "iopub.status.idle": "2023-03-01T11:07:02.673490Z",
     "shell.execute_reply": "2023-03-01T11:07:02.672144Z",
     "shell.execute_reply.started": "2023-03-01T11:06:58.783613Z"
    }
   },
   "outputs": [
    {
     "name": "stdout",
     "output_type": "stream",
     "text": [
      "The autoreload extension is already loaded. To reload it, use:\n",
      "  %reload_ext autoreload\n"
     ]
    }
   ],
   "source": [
    "%load_ext autoreload\n",
    "%autoreload 2"
   ]
  },
  {
   "cell_type": "code",
   "execution_count": 1,
   "id": "aaefbcc6-56a5-45b4-86f6-808a4c48dc5a",
   "metadata": {
    "execution": {
     "iopub.execute_input": "2023-04-16T02:31:14.086709Z",
     "iopub.status.busy": "2023-04-16T02:31:14.085619Z",
     "iopub.status.idle": "2023-04-16T02:31:14.392819Z",
     "shell.execute_reply": "2023-04-16T02:31:14.392044Z",
     "shell.execute_reply.started": "2023-04-16T02:31:14.086503Z"
    },
    "tags": []
   },
   "outputs": [],
   "source": [
    "import argparse\n",
    "import functools\n",
    "import os\n",
    "import shutil\n",
    "from typing import Union\n",
    "\n",
    "import cv2\n",
    "import numpy as np\n",
    "import pandas as pd\n",
    "from tqdm import tqdm"
   ]
  },
  {
   "cell_type": "code",
   "execution_count": null,
   "id": "e3d4b09d-1e05-48b6-9645-1b09a100a1a1",
   "metadata": {
    "tags": [
     "style-activity"
    ]
   },
   "outputs": [],
   "source": [
    "from .utils import generate_paths, get_video_metadata, split_datasets"
   ]
  },
  {
   "cell_type": "code",
   "execution_count": null,
   "id": "aedf39c0-a21c-4545-90aa-337708833b14",
   "metadata": {
    "tags": [
     "style-activity",
     "active-ipynb"
    ]
   },
   "outputs": [],
   "source": [
    "from utils import generate_paths, get_video_metadata, split_datasets"
   ]
  },
  {
   "cell_type": "markdown",
   "id": "6aa96d7e-2d1a-45d1-bb2a-a1167ddcb542",
   "metadata": {},
   "source": [
    "## DFDC"
   ]
  },
  {
   "cell_type": "code",
   "execution_count": null,
   "id": "125ee9b0-d631-4c11-add9-ed3f91a64014",
   "metadata": {},
   "outputs": [],
   "source": [
    "cur_path = os.path.split(os.path.abspath(__file__))[0]"
   ]
  },
  {
   "cell_type": "code",
   "execution_count": 135,
   "id": "562c2af6-a10c-4388-810f-7efce7e939c1",
   "metadata": {
    "execution": {
     "iopub.execute_input": "2023-03-05T03:11:02.921232Z",
     "iopub.status.busy": "2023-03-05T03:11:02.920694Z",
     "iopub.status.idle": "2023-03-05T03:11:02.968009Z",
     "shell.execute_reply": "2023-03-05T03:11:02.967261Z",
     "shell.execute_reply.started": "2023-03-05T03:11:02.921184Z"
    }
   },
   "outputs": [],
   "source": [
    "class DFDC(object):\n",
    "    def __init__(self, root_path, data_path, face_detect_method=\"s3fd\"):\n",
    "        if root_path.endswith(os.sep):\n",
    "            root_path = root_path[:-1]\n",
    "        self.root_path = root_path\n",
    "        self.face_detect_method = face_detect_method\n",
    "        \n",
    "        data = pd.read_csv(os.path.join(cur_path, \"splits/DFDC-18000.csv\"))\n",
    "        data['name'] = data['filename'].apply(lambda x: os.path.splitext(x)[0])\n",
    "        data['path'] = data.apply(lambda x: os.path.join(root_path, 'dfdc_train_part_%s'%x['part'], x['filename']), axis=1)\n",
    "        self.data = generate_paths(\n",
    "            data, data_path=data_path, face_detect_method=face_detect_method\n",
    "        )\n",
    "\n",
    "    def get_splits(\n",
    "        self,\n",
    "        splits=[0.75, 0.1, 0.15],\n",
    "    ):\n",
    "        \"\"\"Split the video paths and generate Dataloader\"\"\"\n",
    "        data_splits = split_datasets(self.data, splits)\n",
    "        return data_splits"
   ]
  }
 ],
 "metadata": {
  "jupytext": {
   "formats": "ipynb,py:light"
  },
  "kernelspec": {
   "display_name": "Python 3 (ipykernel)",
   "language": "python",
   "name": "python3"
  },
  "language_info": {
   "codemirror_mode": {
    "name": "ipython",
    "version": 3
   },
   "file_extension": ".py",
   "mimetype": "text/x-python",
   "name": "python",
   "nbconvert_exporter": "python",
   "pygments_lexer": "ipython3",
   "version": "3.9.16"
  },
  "toc-autonumbering": true
 },
 "nbformat": 4,
 "nbformat_minor": 5
}
