{
 "cells": [
  {
   "cell_type": "code",
   "execution_count": null,
   "id": "da32e24e-b83a-4b69-9940-d58928a31a6c",
   "metadata": {
    "tags": []
   },
   "outputs": [],
   "source": [
    "%load_ext autoreload\n",
    "%autoreload 2"
   ]
  },
  {
   "cell_type": "code",
   "execution_count": null,
   "id": "37b990e3-9b80-4092-b4f3-de383b61c82b",
   "metadata": {
    "tags": []
   },
   "outputs": [],
   "source": [
    "import argparse\n",
    "import functools\n",
    "import hashlib\n",
    "import os\n",
    "import pathlib\n",
    "import shutil\n",
    "import sys\n",
    "from typing import Union\n",
    "\n",
    "import cv2\n",
    "import numpy as np\n",
    "import pandas as pd\n",
    "import torch\n",
    "from tqdm import tqdm"
   ]
  },
  {
   "cell_type": "code",
   "execution_count": null,
   "id": "e3d4b09d-1e05-48b6-9645-1b09a100a1a1",
   "metadata": {
    "tags": [
     "style-activity"
    ]
   },
   "outputs": [],
   "source": [
    "from .utils import generate_paths, get_video_metadata, split_datasets"
   ]
  },
  {
   "cell_type": "code",
   "execution_count": null,
   "id": "aedf39c0-a21c-4545-90aa-337708833b14",
   "metadata": {
    "tags": [
     "style-activity",
     "active-ipynb"
    ]
   },
   "outputs": [],
   "source": [
    "from utils import generate_paths, get_video_metadata, split_datasets"
   ]
  },
  {
   "cell_type": "markdown",
   "id": "e41abe74-9bc1-4353-ada9-6a26ba1fe104",
   "metadata": {},
   "source": [
    "# 文件夹"
   ]
  },
  {
   "cell_type": "code",
   "execution_count": null,
   "id": "53acc562-3eaf-4518-8bf8-2d850c420b40",
   "metadata": {
    "tags": []
   },
   "outputs": [],
   "source": [
    "def path_to_name(path):\n",
    "    \"\"\"\n",
    "    DeepfakeTIMIT/higher_quality/fadg0/sa1-video-fram1.avi -> fadg0-sa1-video-fram1.avi\n",
    "    \"\"\"\n",
    "    a, b = os.path.split(path)\n",
    "    quality = a.split(\"/\")[-2]\n",
    "    x = \"HQ\" if \"higher\" in quality else (\"LQ\" if \"lower\" in quality else \"RAW\")\n",
    "    return x + \"-\" + a.split(\"/\")[-1] + \"-\" + b"
   ]
  },
  {
   "cell_type": "code",
   "execution_count": 42,
   "id": "e75b46f3-33a3-4e7e-a2c1-333430500410",
   "metadata": {
    "execution": {
     "iopub.execute_input": "2023-04-13T15:24:01.895098Z",
     "iopub.status.busy": "2023-04-13T15:24:01.894473Z",
     "iopub.status.idle": "2023-04-13T15:24:01.926592Z",
     "shell.execute_reply": "2023-04-13T15:24:01.925772Z",
     "shell.execute_reply.started": "2023-04-13T15:24:01.895052Z"
    },
    "tags": []
   },
   "outputs": [],
   "source": [
    "def custom_splits(data, splits):\n",
    "    all_items = sorted(list(set(list(data[\"person\"]))))\n",
    "    L = len(all_items)\n",
    "    train = int(L * splits[0])\n",
    "    val = int(L * splits[1])\n",
    "    test = L - train - val\n",
    "    res = {}\n",
    "    res[\"train\"] = data[data[\"person\"].isin(all_items[0:train])].reset_index(drop=True)\n",
    "    res[\"val\"] = data[data[\"person\"].isin(all_items[train : train + val])].reset_index(\n",
    "        drop=True\n",
    "    )\n",
    "    res[\"test\"] = data[data[\"person\"].isin(all_items[train + val :])].reset_index(\n",
    "        drop=True\n",
    "    )\n",
    "    return argparse.Namespace(**res)"
   ]
  },
  {
   "cell_type": "code",
   "execution_count": 46,
   "id": "43151c25-4ed7-458b-acd3-c0aa800fbe64",
   "metadata": {
    "execution": {
     "iopub.execute_input": "2023-04-13T15:24:46.956962Z",
     "iopub.status.busy": "2023-04-13T15:24:46.956444Z",
     "iopub.status.idle": "2023-04-13T15:24:46.994968Z",
     "shell.execute_reply": "2023-04-13T15:24:46.994319Z",
     "shell.execute_reply.started": "2023-04-13T15:24:46.956918Z"
    },
    "tags": []
   },
   "outputs": [],
   "source": [
    "class DF_TIMIT:\n",
    "    def __init__(self, root_path, data_path):\n",
    "        if root_path.endswith(os.sep):\n",
    "            root_path = root_path[:-1]\n",
    "        self.root_path = root_path\n",
    "        self.data_path = data_path\n",
    "        self.path_dataset_info = os.path.join(root_path, \"dataset_info.csv\")\n",
    "        self.n_videos = 960\n",
    "        self.data = generate_paths(self.read_dataset_info(), data_path=data_path)\n",
    "\n",
    "    def read_dataset_info(self):\n",
    "        if not os.path.isfile(self.path_dataset_info):\n",
    "            data = self.init_dataset_info()\n",
    "        else:\n",
    "            data = pd.read_csv(self.path_dataset_info)\n",
    "        return data\n",
    "\n",
    "    def init_dataset_info(self):\n",
    "        print(\"Strat generate the metadata of the DF-TIMIT dataset\")\n",
    "\n",
    "        paths = []\n",
    "        used_videos = []\n",
    "        for path, dir_list, file_list in os.walk(self.root_path):\n",
    "            for file_name in file_list:\n",
    "                if file_name.endswith(\"avi\"):\n",
    "                    paths.append(os.path.join(path, file_name))\n",
    "                    if \"quality\" in path:\n",
    "                        used_videos.append(path.split(\"/\")[-1])\n",
    "        used_videos = list(set(used_videos))\n",
    "        paths = [x for x in paths if os.path.split(x)[0].split(\"/\")[-1] in used_videos]\n",
    "\n",
    "        assert (\n",
    "            len(paths) == 960\n",
    "        ), \"The number of videos in DF-TIMIT should be 960, but is actually %d\" % len(\n",
    "            paths\n",
    "        )\n",
    "\n",
    "        ## 2. build a DataFrame from videos paths, extract labels and quality\n",
    "        data = pd.DataFrame(sorted(paths), columns=[\"path\"])\n",
    "        data[\"video_label\"] = data[\"path\"].apply(lambda x: 0 if \"quality\" in x else 1)\n",
    "        data[\"audio_label\"] = 1\n",
    "        data[\"label\"] = data[\"video_label\"]\n",
    "        data[\"video_quality\"] = data[\"path\"].apply(\n",
    "            lambda x: \"HQ\" if \"higher\" in x else (\"LQ\" if \"lower\" in x else \"RAW\")\n",
    "        )\n",
    "        data[\"name\"] = data[\"path\"].apply(path_to_name)\n",
    "\n",
    "        data[\"person\"] = data[\"path\"].apply(lambda x: x.split(\"/\")[-2])\n",
    "\n",
    "        ## 3. get video info\n",
    "        print(\"read video info from all videos:\")\n",
    "        data = get_video_metadata(data)\n",
    "\n",
    "        data.to_csv(self.path_dataset_info, index=False)\n",
    "        return data\n",
    "\n",
    "    def get_splits(\n",
    "        self,\n",
    "        video_quality=\"LQ\",\n",
    "        splits=[0.75, 0.1, 0.15],\n",
    "    ):\n",
    "        \"\"\"Split the video paths and generate Dataloader\"\"\"\n",
    "        assert video_quality in [\"LQ\", \"HQ\"]\n",
    "        data = self.data[self.data[\"video_quality\"].isin([video_quality, \"RAW\"])]\n",
    "        # data_splits = split_datasets(data, splits)\n",
    "        data_splits = custom_splits(data, splits)\n",
    "        return data_splits"
   ]
  },
  {
   "cell_type": "code",
   "execution_count": 48,
   "id": "234a707d-dcda-4a3c-ba79-9dc8ebccbcb9",
   "metadata": {
    "execution": {
     "iopub.execute_input": "2023-04-13T15:24:54.821437Z",
     "iopub.status.busy": "2023-04-13T15:24:54.820506Z",
     "iopub.status.idle": "2023-04-13T15:24:54.869085Z",
     "shell.execute_reply": "2023-04-13T15:24:54.868431Z",
     "shell.execute_reply.started": "2023-04-13T15:24:54.821390Z"
    },
    "tags": [
     "style-activity",
     "active-ipynb"
    ]
   },
   "outputs": [],
   "source": [
    "dataset = DF_TIMIT(\n",
    "    root_path=\"/home/ay/data/0-原始数据集/DeepfakeTIMIT\",\n",
    "    data_path=\"/home/ay/data/DATA/dataset/0-deepfake/DF-TIMIT\",\n",
    ")\n",
    "\n",
    "dataset.get_splits()"
   ]
  }
 ],
 "metadata": {
  "jupytext": {
   "formats": "ipynb,py:light"
  },
  "kernelspec": {
   "display_name": "Python 3 (ipykernel)",
   "language": "python",
   "name": "python3"
  },
  "language_info": {
   "codemirror_mode": {
    "name": "ipython",
    "version": 3
   },
   "file_extension": ".py",
   "mimetype": "text/x-python",
   "name": "python",
   "nbconvert_exporter": "python",
   "pygments_lexer": "ipython3",
   "version": "3.9.16"
  },
  "widgets": {
   "application/vnd.jupyter.widget-state+json": {
    "state": {},
    "version_major": 2,
    "version_minor": 0
   }
  }
 },
 "nbformat": 4,
 "nbformat_minor": 5
}
