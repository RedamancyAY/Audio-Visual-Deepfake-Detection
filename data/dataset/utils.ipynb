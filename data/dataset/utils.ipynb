{
 "cells": [
  {
   "cell_type": "code",
   "execution_count": 6,
   "id": "9c869f9b-99ec-41d5-8d9d-cbb53d0fff70",
   "metadata": {
    "execution": {
     "iopub.execute_input": "2023-04-13T07:48:25.545701Z",
     "iopub.status.busy": "2023-04-13T07:48:25.545154Z",
     "iopub.status.idle": "2023-04-13T07:48:25.551956Z",
     "shell.execute_reply": "2023-04-13T07:48:25.550810Z",
     "shell.execute_reply.started": "2023-04-13T07:48:25.545660Z"
    }
   },
   "outputs": [],
   "source": [
    "import argparse\n",
    "import json\n",
    "import os\n",
    "import subprocess\n",
    "\n",
    "import cv2\n",
    "import numpy as np\n",
    "import pandas as pd\n",
    "import torch\n",
    "from moviepy.editor import VideoFileClip\n",
    "from pandarallel import pandarallel\n",
    "from torchvision.io import read_video"
   ]
  },
  {
   "cell_type": "code",
   "execution_count": null,
   "id": "6ac81245-d243-487b-aa6d-2ba1ddb6abb8",
   "metadata": {},
   "outputs": [],
   "source": [
    "# + tags=[]\n",
    "def has_audio_streams(file_path):\n",
    "    command = [\"ffprobe\", \"-show_streams\", \"-print_format\", \"json\", file_path]\n",
    "    output = subprocess.check_output(command, stderr=subprocess.DEVNULL)\n",
    "    # print(output)\n",
    "    parsed = json.loads(output)\n",
    "    streams = parsed[\"streams\"]\n",
    "    audio_streams = list(filter((lambda x: x[\"codec_type\"] == \"audio\"), streams))\n",
    "    return len(audio_streams) > 0\n",
    "\n",
    "\n",
    "# + tags=[]\n",
    "def get_video_info(path):\n",
    "    cap = cv2.VideoCapture(path)\n",
    "    frame_width = int(cap.get(cv2.CAP_PROP_FRAME_WIDTH))\n",
    "    frame_height = int(cap.get(cv2.CAP_PROP_FRAME_HEIGHT))\n",
    "    FPS = int(cap.get(cv2.CAP_PROP_FPS))\n",
    "    frame_count = int(cap.get(cv2.CAP_PROP_FRAME_COUNT))\n",
    "    # exist_audio = int(cap.get(cv2.CAP_PROP_AUDIO_TOTAL_STREAMS)) > 0\n",
    "\n",
    "    exist_audio = has_audio_streams(path)\n",
    "    # exist_audio = has_audio_track(path)\n",
    "\n",
    "    _info = {\n",
    "        \"height\": frame_height,\n",
    "        \"width\": frame_width,\n",
    "        \"fps\": FPS,\n",
    "        \"n_frames\": frame_count,\n",
    "        \"exist_audio\": exist_audio,\n",
    "    }\n",
    "    _info = argparse.Namespace(**_info)\n",
    "    return _info"
   ]
  },
  {
   "cell_type": "code",
   "execution_count": 2,
   "id": "057189bc-b447-494c-b861-aeaad8e084d2",
   "metadata": {
    "execution": {
     "iopub.execute_input": "2023-04-13T07:18:13.422703Z",
     "iopub.status.busy": "2023-04-13T07:18:13.422026Z",
     "iopub.status.idle": "2023-04-13T07:18:13.429851Z",
     "shell.execute_reply": "2023-04-13T07:18:13.429168Z",
     "shell.execute_reply.started": "2023-04-13T07:18:13.422661Z"
    }
   },
   "outputs": [],
   "source": [
    "def get_video_metadata(data):\n",
    "    def _video_info(path, items):\n",
    "        info = get_video_info(path)\n",
    "        info = vars(info)\n",
    "        return [info[x] for x in items]\n",
    "\n",
    "    pandarallel.initialize(progress_bar=True)\n",
    "    video_infos = [\"height\", \"width\", \"fps\", \"n_frames\", \"exist_audio\"]\n",
    "    data[video_infos] = data.parallel_apply(\n",
    "        lambda x: tuple(_video_info(x[\"path\"], video_infos)),\n",
    "        axis=1,\n",
    "        result_type=\"expand\",\n",
    "    )\n",
    "    return data"
   ]
  },
  {
   "cell_type": "code",
   "execution_count": 5,
   "id": "4d75aa57-af97-4fbd-bf98-257d31116eda",
   "metadata": {
    "execution": {
     "iopub.execute_input": "2023-04-13T07:21:14.285402Z",
     "iopub.status.busy": "2023-04-13T07:21:14.284877Z",
     "iopub.status.idle": "2023-04-13T07:21:14.296239Z",
     "shell.execute_reply": "2023-04-13T07:21:14.295189Z",
     "shell.execute_reply.started": "2023-04-13T07:21:14.285360Z"
    }
   },
   "outputs": [],
   "source": [
    "def split_datasets(df, splits: list = [0.75, 0.1, 0.15]):\n",
    "    \"\"\"Split the video paths according to the offical splits file\"\"\"\n",
    "    train = df.sample(frac=splits[0], random_state=42)\n",
    "    if len(splits) == 3:\n",
    "        val = df.drop(train.index).sample(\n",
    "            frac=(splits[1] / (splits[1] + splits[2])), random_state=42\n",
    "        )\n",
    "        test = df.drop(train.index).drop(val.index)\n",
    "    else:\n",
    "        test = df.drop(train.index)\n",
    "    res = {\n",
    "        \"train\": train.reset_index(drop=True),\n",
    "        \"val\": val.reset_index(drop=True),\n",
    "        \"test\": test.reset_index(drop=True),\n",
    "    }\n",
    "    return argparse.Namespace(**res)"
   ]
  },
  {
   "cell_type": "code",
   "execution_count": null,
   "id": "4e8dfe79-14f1-4bbc-9c53-5bcf8e46fa49",
   "metadata": {},
   "outputs": [],
   "source": [
    "def generate_paths(data, data_path, face_detect_method=None):\n",
    "    audio_path = data_path + \"/audio\"\n",
    "    mouth_path = data_path + \"/mouth\"\n",
    "\n",
    "    # print(data_path, face_detect_method)\n",
    "\n",
    "    if face_detect_method is None:\n",
    "        video_path = data_path + \"/video\"\n",
    "        data[\"video_path\"] = data[\"name\"].apply(\n",
    "            lambda x: os.path.join(video_path, os.path.splitext(x)[0])\n",
    "        )\n",
    "    else:\n",
    "        video_path = data_path + \"/%s\" % face_detect_method\n",
    "        print(video_path)\n",
    "        data[\"video_path\"] = data[\"name\"].apply(\n",
    "            lambda x: os.path.join(video_path, os.path.splitext(x)[0])\n",
    "        )\n",
    "    data[\"audio_path\"] = data[\"name\"].apply(\n",
    "        lambda x: os.path.join(audio_path, os.path.splitext(x)[0] + \".wav\")\n",
    "    )\n",
    "    data[\"mouth_path\"] = data[\"name\"].apply(\n",
    "        lambda x: os.path.join(mouth_path, os.path.splitext(x)[0])\n",
    "    )\n",
    "    return data"
   ]
  }
 ],
 "metadata": {
  "jupytext": {
   "formats": "ipynb,py:light"
  },
  "kernelspec": {
   "display_name": "Python 3 (ipykernel)",
   "language": "python",
   "name": "python3"
  },
  "language_info": {
   "codemirror_mode": {
    "name": "ipython",
    "version": 3
   },
   "file_extension": ".py",
   "mimetype": "text/x-python",
   "name": "python",
   "nbconvert_exporter": "python",
   "pygments_lexer": "ipython3",
   "version": "3.9.16"
  }
 },
 "nbformat": 4,
 "nbformat_minor": 5
}
