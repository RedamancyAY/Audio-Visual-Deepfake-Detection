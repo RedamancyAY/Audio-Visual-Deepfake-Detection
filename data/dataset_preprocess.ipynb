{
 "cells": [
  {
   "cell_type": "code",
   "execution_count": 1,
   "id": "5748e8bf-62f1-4932-bccb-13c357dc0494",
   "metadata": {
    "execution": {
     "iopub.execute_input": "2023-05-10T06:34:03.151435Z",
     "iopub.status.busy": "2023-05-10T06:34:03.150873Z",
     "iopub.status.idle": "2023-05-10T06:34:03.186503Z",
     "shell.execute_reply": "2023-05-10T06:34:03.185111Z",
     "shell.execute_reply.started": "2023-05-10T06:34:03.151375Z"
    },
    "tags": []
   },
   "outputs": [],
   "source": [
    "%load_ext autoreload\n",
    "%autoreload 2"
   ]
  },
  {
   "cell_type": "code",
   "execution_count": 2,
   "id": "6a232890-6e1d-4920-a927-6c4c3b461d90",
   "metadata": {
    "execution": {
     "iopub.execute_input": "2023-05-10T06:34:04.489810Z",
     "iopub.status.busy": "2023-05-10T06:34:04.489281Z",
     "iopub.status.idle": "2023-05-10T06:34:06.448732Z",
     "shell.execute_reply": "2023-05-10T06:34:06.447831Z",
     "shell.execute_reply.started": "2023-05-10T06:34:04.489762Z"
    },
    "tags": []
   },
   "outputs": [],
   "source": [
    "import multiprocessing as mp\n",
    "import os\n",
    "\n",
    "import torch\n",
    "import torchaudio\n",
    "import argparse\n",
    "# from pandarallel import pandarallel\n",
    "import torchvision\n",
    "from torchvision.io import read_image, read_video, write_jpeg, write_png\n",
    "from utils import check_dir"
   ]
  },
  {
   "cell_type": "code",
   "execution_count": 3,
   "id": "9fb42bdd-1a25-430a-b3a9-f64bc172e701",
   "metadata": {
    "execution": {
     "iopub.execute_input": "2023-05-10T06:34:08.650189Z",
     "iopub.status.busy": "2023-05-10T06:34:08.649583Z",
     "iopub.status.idle": "2023-05-10T06:34:08.813957Z",
     "shell.execute_reply": "2023-05-10T06:34:08.812989Z",
     "shell.execute_reply.started": "2023-05-10T06:34:08.650134Z"
    },
    "tags": []
   },
   "outputs": [],
   "source": [
    "from dataset.DF_TIMIT import DF_TIMIT\n",
    "from dataset.fakeAVCeleb import FakeAVCeleb\n",
    "from dataset.DFDC import DFDC"
   ]
  },
  {
   "cell_type": "code",
   "execution_count": 4,
   "id": "4b52f3b4-d931-4aa5-a555-f65ced00f18b",
   "metadata": {
    "execution": {
     "iopub.execute_input": "2023-05-10T06:34:10.579180Z",
     "iopub.status.busy": "2023-05-10T06:34:10.578593Z",
     "iopub.status.idle": "2023-05-10T06:34:10.633698Z",
     "shell.execute_reply": "2023-05-10T06:34:10.632150Z",
     "shell.execute_reply.started": "2023-05-10T06:34:10.579130Z"
    },
    "tags": []
   },
   "outputs": [],
   "source": [
    "def extract_frames(video, video_path):\n",
    "    for i in range(video.shape[0]):\n",
    "        file_path = os.path.join(video_path, \"%04d.png\" % (i + 1))\n",
    "        check_dir(file_path)\n",
    "        write_png(video[i], file_path)\n",
    "\n",
    "\n",
    "def resample_and_store_audio(audio, audio_path, old_freq, new_freq=16000):\n",
    "    new_audio = torchaudio.functional.resample(audio, old_freq, new_freq)\n",
    "    check_dir(audio_path)\n",
    "    torchaudio.save(audio_path, new_audio, 16000)"
   ]
  },
  {
   "cell_type": "code",
   "execution_count": 5,
   "id": "20ee7e22-03a9-408e-b679-9f8cf5d33ecb",
   "metadata": {
    "execution": {
     "iopub.execute_input": "2023-05-10T06:34:11.938567Z",
     "iopub.status.busy": "2023-05-10T06:34:11.937996Z",
     "iopub.status.idle": "2023-05-10T06:34:11.993834Z",
     "shell.execute_reply": "2023-05-10T06:34:11.992745Z",
     "shell.execute_reply.started": "2023-05-10T06:34:11.938510Z"
    },
    "tags": []
   },
   "outputs": [],
   "source": [
    "def preprocess(data):\n",
    "    path = data[\"path\"]\n",
    "    video_path = data[\"video_path\"]\n",
    "    audio_path = data[\"audio_path\"]\n",
    "    n_frames = data[\"n_frames\"]\n",
    "    # print(path)\n",
    "\n",
    "#     # 1. save video frames\n",
    "#     if os.path.exists(video_path):\n",
    "#         file_paths = [x for x in os.listdir(video_path) if x.endswith(\"png\")]\n",
    "#         if len(file_paths) != n_frames:\n",
    "#             video, audio, metadata = read_video(path, output_format=\"TCHW\")\n",
    "#             extract_frames(video, video_path)\n",
    "#     else:\n",
    "#         video, audio, metadata = read_video(path, output_format=\"TCHW\")\n",
    "#         extract_frames(video, video_path)\n",
    "\n",
    "#     # 2. save resampled audio\n",
    "#     if not os.path.exists(audio_path):\n",
    "#         if \"audio_fps\" in metadata.keys():\n",
    "#             resample_and_store_audio(\n",
    "#                 audio, audio_path, old_freq=metadata[\"audio_fps\"], new_freq=16000\n",
    "#             )\n",
    "#         else:\n",
    "#             ext = os.path.splitext(path)\n",
    "#             org_audio_path = path.replace(ext[-1], \".wav\")\n",
    "#             audio, old_frep = torchaudio.load(org_audio_path)\n",
    "#             resample_and_store_audio(audio, audio_path, old_frep, new_freq=16000)\n",
    "\n",
    "            \n",
    "    \n",
    "    # 1. save video frames\n",
    "    if not os.path.exists(video_path):\n",
    "        try:\n",
    "            video, audio, metadata = read_video(path, output_format=\"TCHW\")\n",
    "            extract_frames(video, video_path)\n",
    "        except OSError:\n",
    "            print(path)\n",
    "\n",
    "    # 2. save resampled audio\n",
    "    if not os.path.exists(audio_path):\n",
    "        ext = os.path.splitext(path)\n",
    "        org_audio_path = path.replace(ext[-1], \".wav\")\n",
    "        audio, old_frep = torchaudio.load(org_audio_path)\n",
    "        resample_and_store_audio(audio, audio_path, old_frep, new_freq=16000)\n",
    "            \n",
    "    return 1"
   ]
  },
  {
   "cell_type": "code",
   "execution_count": 13,
   "id": "06e4f065-3ed6-4f46-9645-5ece5cd67593",
   "metadata": {
    "execution": {
     "iopub.execute_input": "2023-05-10T06:48:09.884950Z",
     "iopub.status.busy": "2023-05-10T06:48:09.884352Z",
     "iopub.status.idle": "2023-05-10T06:48:09.926387Z",
     "shell.execute_reply": "2023-05-10T06:48:09.925521Z",
     "shell.execute_reply.started": "2023-05-10T06:48:09.884899Z"
    },
    "tags": []
   },
   "outputs": [],
   "source": [
    "def process_df_chunk(chunk, process_id):\n",
    "    for i in range(len(chunk)):\n",
    "        preprocess(chunk.iloc[i])\n",
    "        if i > 0 and i % 10 == 0:\n",
    "            print(\"Process id {}: now {}, total {}\".format(process_id, i, len(chunk)))\n",
    "    return 1"
   ]
  },
  {
   "cell_type": "code",
   "execution_count": 12,
   "id": "1552b036-00a9-4b2c-80c0-48b65a301896",
   "metadata": {
    "execution": {
     "iopub.execute_input": "2023-05-10T06:48:08.572277Z",
     "iopub.status.busy": "2023-05-10T06:48:08.570815Z",
     "iopub.status.idle": "2023-05-10T06:48:08.622833Z",
     "shell.execute_reply": "2023-05-10T06:48:08.621885Z",
     "shell.execute_reply.started": "2023-05-10T06:48:08.572188Z"
    },
    "scrolled": true,
    "tags": []
   },
   "outputs": [],
   "source": [
    "def strat_preprocessing_dataset(dataset):\n",
    "\n",
    "    num_chunks = 8\n",
    "    num_per_chunk = len(dataset.data) // num_chunks + num_chunks\n",
    "    dataset.data = dataset.data.sample(frac=1).reset_index(drop=True)\n",
    "    chunks = [\n",
    "        dataset.data[i * num_per_chunk : min((i + 1) * num_per_chunk, len(dataset.data))]\n",
    "        for i in range(num_chunks)\n",
    "    ]\n",
    "\n",
    "    for chunk in chunks:\n",
    "        print(len(chunk))\n",
    "\n",
    "    pool = mp.Pool(processes=num_chunks)\n",
    "    for  i, chunk in enumerate(chunks):\n",
    "        pool.apply_async(process_df_chunk, args=(chunk, i))\n",
    "    pool.close()\n",
    "    pool.join()\n",
    "    \n",
    "    \n",
    "#     results = [\n",
    "#         pool.apply_async(process_df_chunk, args=(chunk, i))\n",
    "#         for i, chunk in enumerate(chunks)\n",
    "#     ]\n",
    "\n",
    "#     results[0].get()\n",
    "    return 1"
   ]
  },
  {
   "cell_type": "code",
   "execution_count": null,
   "id": "fd5288f4-f9a2-4d19-84d5-4a6f1c92346c",
   "metadata": {},
   "outputs": [],
   "source": [
    "if __name__ == \"__main__\":\n",
    "    parser = argparse.ArgumentParser()\n",
    "    parser.add_argument(\"--dataset\", type=str, default=\"FakeAVCeleb\")\n",
    "    parser.add_argument(\"--root_path\", type=str)\n",
    "    parser.add_argument(\"--data_path\", type=str)\n",
    "    args = parser.parse_args()\n",
    "\n",
    "    assert args.dataset in ['FakeAVCeleb', 'DF-TIMIT', 'DFDC']\n",
    "    \n",
    "    \n",
    "    if args.dataset == \"DF-TIMIT\":\n",
    "        dataset = DF_TIMIT(root_path=args.root_path, data_path=args.data_path)\n",
    "    elif args.dataset == 'FakeAVCeleb':\n",
    "        dataset = FakeAVCeleb(root_path=args.root_path, data_path=args.data_path)\n",
    "    elif args.dataset == 'DFDC':\n",
    "        dataset = DFDC(root_path=args.root_path, data_path=args.data_path)\n",
    "    \n",
    "    strat_preprocessing_dataset(dataset)"
   ]
  }
 ],
 "metadata": {
  "jupytext": {
   "formats": "ipynb,py:light"
  },
  "kernelspec": {
   "display_name": "Python 3 (ipykernel)",
   "language": "python",
   "name": "python3"
  },
  "language_info": {
   "codemirror_mode": {
    "name": "ipython",
    "version": 3
   },
   "file_extension": ".py",
   "mimetype": "text/x-python",
   "name": "python",
   "nbconvert_exporter": "python",
   "pygments_lexer": "ipython3",
   "version": "3.9.16"
  }
 },
 "nbformat": 4,
 "nbformat_minor": 5
}
