{
 "cells": [
  {
   "cell_type": "code",
   "execution_count": 5,
   "id": "3ffc7f7f-2e1e-4b8b-bdf3-4027688f49f3",
   "metadata": {
    "execution": {
     "iopub.execute_input": "2023-03-10T03:33:40.832285Z",
     "iopub.status.busy": "2023-03-10T03:33:40.831321Z",
     "iopub.status.idle": "2023-03-10T03:33:40.863178Z",
     "shell.execute_reply": "2023-03-10T03:33:40.862216Z",
     "shell.execute_reply.started": "2023-03-10T03:33:40.832240Z"
    },
    "tags": []
   },
   "outputs": [
    {
     "name": "stdout",
     "output_type": "stream",
     "text": [
      "The autoreload extension is already loaded. To reload it, use:\n",
      "  %reload_ext autoreload\n"
     ]
    }
   ],
   "source": [
    "%load_ext autoreload\n",
    "%autoreload 2"
   ]
  },
  {
   "cell_type": "code",
   "execution_count": 4,
   "id": "4ce6c4d1-8f18-45ff-9fb5-80490a9750b7",
   "metadata": {
    "execution": {
     "iopub.execute_input": "2023-03-10T03:33:39.549062Z",
     "iopub.status.busy": "2023-03-10T03:33:39.547991Z",
     "iopub.status.idle": "2023-03-10T03:33:39.580358Z",
     "shell.execute_reply": "2023-03-10T03:33:39.579576Z",
     "shell.execute_reply.started": "2023-03-10T03:33:39.549015Z"
    },
    "tags": []
   },
   "outputs": [],
   "source": [
    "import albumentations.augmentations.functional as F\n",
    "from enum import IntEnum\n",
    "import torch\n",
    "import torchvision.io as io\n",
    "import random"
   ]
  },
  {
   "cell_type": "code",
   "execution_count": null,
   "id": "77836143-48db-4a94-b485-413207368161",
   "metadata": {},
   "outputs": [],
   "source": [
    "from .functional import jpg_compression"
   ]
  },
  {
   "cell_type": "code",
   "execution_count": 6,
   "id": "070da5b2-f6a7-4c75-aaf6-d80ec55ba6ff",
   "metadata": {
    "execution": {
     "iopub.execute_input": "2023-03-10T03:33:41.896367Z",
     "iopub.status.busy": "2023-03-10T03:33:41.895496Z",
     "iopub.status.idle": "2023-03-10T03:33:41.924892Z",
     "shell.execute_reply": "2023-03-10T03:33:41.924131Z",
     "shell.execute_reply.started": "2023-03-10T03:33:41.896323Z"
    },
    "tags": [
     "active-ipynb"
    ]
   },
   "outputs": [],
   "source": [
    "from functional import jpg_compression"
   ]
  },
  {
   "cell_type": "markdown",
   "id": "791bccdd-960b-4737-b9b0-ecedb8aa82e1",
   "metadata": {},
   "source": [
    "https://github.com/albumentations-team/albumentations/blob/9b0525f479509195a7a7b7c19311d8e63bbc6494/albumentations/augmentations/transforms.py#L219"
   ]
  },
  {
   "cell_type": "code",
   "execution_count": 194,
   "id": "492a19a6-a3eb-49a0-b0fb-49632c5448bd",
   "metadata": {
    "execution": {
     "iopub.execute_input": "2023-03-10T03:52:54.904557Z",
     "iopub.status.busy": "2023-03-10T03:52:54.904187Z",
     "iopub.status.idle": "2023-03-10T03:52:54.942925Z",
     "shell.execute_reply": "2023-03-10T03:52:54.942019Z",
     "shell.execute_reply.started": "2023-03-10T03:52:54.904528Z"
    },
    "tags": []
   },
   "outputs": [],
   "source": [
    "class JPEGCompression(object):\n",
    "    \"\"\"Decreases image quality by Jpeg compression of an image.\n",
    "    Args:\n",
    "        quality_lower (float): lower bound on the image quality.\n",
    "                               Should be in [0, 100] range for jpeg. \n",
    "        quality_upper (float): upper bound on the image quality.\n",
    "                               Should be in [0, 100] range for jpeg.\n",
    "    Targets:\n",
    "        image\n",
    "    Image types:\n",
    "        uint8, float32\n",
    "    \"\"\"\n",
    "\n",
    "    def __init__(\n",
    "        self,\n",
    "        quality_lower=60,\n",
    "        quality_upper=100,\n",
    "        consistent_quality=True,\n",
    "        p=0.5,\n",
    "    ):\n",
    "        super().__init__()\n",
    "\n",
    "        assert 0 <= quality_lower <= quality_upper <= 100\n",
    "        self.quality_lower = quality_lower\n",
    "        self.quality_upper = quality_upper\n",
    "        self.consistent_quality = consistent_quality\n",
    "        self.p = p\n",
    "        self.debug = 0\n",
    "        \n",
    "    def compress_img(self, x, quality=-1):\n",
    "        assert x.ndim == 3 and x.shape[0] in [1, 3]\n",
    "        if quality == -1:\n",
    "            quality = random.randint(self.quality_lower, self.quality_upper)\n",
    "        y = jpg_compression(x, quality)\n",
    "        # print(quality, torch.sum(y-x))\n",
    "        return y\n",
    "    \n",
    "    def __call__(self, x, **kwargs):\n",
    "        '''\n",
    "        Args:\n",
    "            x: (T, C, H, W) or (C, H, W)\n",
    "        '''\n",
    "        # if not self.debug:\n",
    "        #     print(\"Use jpeg compression augmentation\")\n",
    "        #     self.debug = True\n",
    "            \n",
    "        if random.random() > self.p:\n",
    "            return x\n",
    "        \n",
    "        assert x.ndim in [3, 4]\n",
    "        if self.consistent_quality:\n",
    "            quality = random.randint(self.quality_lower, self.quality_upper)\n",
    "        else:\n",
    "            quality = -1\n",
    "            \n",
    "        if x.ndim == 3:\n",
    "            return self.compress_img(x, quality)\n",
    "        else:\n",
    "            return torch.stack([self.compress_img(x[i], quality) for i in range(x.shape[0])])"
   ]
  },
  {
   "cell_type": "code",
   "execution_count": 208,
   "id": "ed251420-3698-4a58-8646-cfe490b93bd6",
   "metadata": {
    "execution": {
     "iopub.execute_input": "2023-03-10T03:53:06.325835Z",
     "iopub.status.busy": "2023-03-10T03:53:06.324877Z",
     "iopub.status.idle": "2023-03-10T03:53:06.372913Z",
     "shell.execute_reply": "2023-03-10T03:53:06.372113Z",
     "shell.execute_reply.started": "2023-03-10T03:53:06.325789Z"
    },
    "tags": [
     "active-ipynb"
    ]
   },
   "outputs": [
    {
     "name": "stdout",
     "output_type": "stream",
     "text": [
      "4.00543212890625e-05 tensor(0)\n"
     ]
    }
   ],
   "source": [
    "x = torch.randint(0, 255, (10, 3, 224, 224)).to(torch.uint8)\n",
    "\n",
    "model = JPEGCompression(quality_lower=1, quality_upper=2)\n",
    "\n",
    "import time \n",
    "x = torch.randint(0, 255, (10, 3, 224, 224)).to(torch.uint8)\n",
    "s = time.time()\n",
    "y = model(x)\n",
    "e = time.time()\n",
    "print(e-s, torch.sum(y-x))"
   ]
  }
 ],
 "metadata": {
  "jupytext": {
   "formats": "ipynb,py:light"
  },
  "kernelspec": {
   "display_name": "Python 3 (ipykernel)",
   "language": "python",
   "name": "python3"
  },
  "language_info": {
   "codemirror_mode": {
    "name": "ipython",
    "version": 3
   },
   "file_extension": ".py",
   "mimetype": "text/x-python",
   "name": "python",
   "nbconvert_exporter": "python",
   "pygments_lexer": "ipython3",
   "version": "3.9.16"
  }
 },
 "nbformat": 4,
 "nbformat_minor": 5
}
