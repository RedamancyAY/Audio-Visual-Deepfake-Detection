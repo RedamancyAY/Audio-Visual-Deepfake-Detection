{
 "cells": [
  {
   "cell_type": "code",
   "execution_count": 1,
   "id": "91f0be38-ac7b-4836-b43e-5ca60fc62bd4",
   "metadata": {
    "execution": {
     "iopub.execute_input": "2023-03-07T13:04:43.563956Z",
     "iopub.status.busy": "2023-03-07T13:04:43.563487Z",
     "iopub.status.idle": "2023-03-07T13:04:43.589994Z",
     "shell.execute_reply": "2023-03-07T13:04:43.589162Z",
     "shell.execute_reply.started": "2023-03-07T13:04:43.563887Z"
    }
   },
   "outputs": [],
   "source": [
    "%load_ext autoreload\n",
    "%autoreload 2"
   ]
  },
  {
   "cell_type": "markdown",
   "id": "afa67790-0789-4ff8-a0f8-62cac9022d6d",
   "metadata": {},
   "source": [
    "# import packages"
   ]
  },
  {
   "cell_type": "code",
   "execution_count": 3,
   "id": "96d5308b-0ec6-4323-92de-b2e4515a0f37",
   "metadata": {
    "execution": {
     "iopub.execute_input": "2023-03-07T13:04:49.171539Z",
     "iopub.status.busy": "2023-03-07T13:04:49.170944Z",
     "iopub.status.idle": "2023-03-07T13:04:49.196425Z",
     "shell.execute_reply": "2023-03-07T13:04:49.195656Z",
     "shell.execute_reply.started": "2023-03-07T13:04:49.171505Z"
    }
   },
   "outputs": [],
   "source": [
    "import math\n",
    "\n",
    "import numpy as np\n",
    "import torch\n",
    "import torch.nn as nn\n",
    "import torch.nn.functional as F\n",
    "import torchvision.transforms as T\n",
    "from einops import rearrange"
   ]
  },
  {
   "cell_type": "code",
   "execution_count": null,
   "id": "2f401096-3b13-47d2-bc77-104d9c25850a",
   "metadata": {
    "tags": [
     "style-activity"
    ]
   },
   "outputs": [],
   "source": [
    "from .utils import Multi_Head_Attention, weight_init, LayerNorm\n",
    "from .block_temporal import TemporalBlock\n",
    "from .block_spatial import SpatialBlock"
   ]
  },
  {
   "cell_type": "code",
   "execution_count": null,
   "id": "c33ea236-ecd8-4a0d-bd29-85cfec22828e",
   "metadata": {
    "tags": [
     "active-ipynb"
    ]
   },
   "outputs": [],
   "source": [
    "from utils import Multi_Head_Attention, weight_init, LayerNorm\n",
    "from block_temporal import TemporalBlock\n",
    "from block_spatial import SpatialBlock"
   ]
  },
  {
   "cell_type": "code",
   "execution_count": 78,
   "id": "dacd3157-7305-4692-9fdc-16a7a58a2726",
   "metadata": {
    "execution": {
     "iopub.execute_input": "2022-12-12T03:11:46.724979Z",
     "iopub.status.busy": "2022-12-12T03:11:46.724290Z",
     "iopub.status.idle": "2022-12-12T03:11:46.747061Z",
     "shell.execute_reply": "2022-12-12T03:11:46.746031Z",
     "shell.execute_reply.started": "2022-12-12T03:11:46.724897Z"
    }
   },
   "outputs": [],
   "source": [
    "class Block(nn.Module):\n",
    "    def __init__(\n",
    "        self,\n",
    "        video_dim,\n",
    "        n_frames,\n",
    "        audio_dim,\n",
    "        window_size=7,\n",
    "        mlp_ratio=4.0,\n",
    "        audio_length=None,\n",
    "        video_size=None,\n",
    "        attn_dropout=0.,\n",
    "    ):\n",
    "        super().__init__()\n",
    "\n",
    "        self.spatial_block = SpatialBlock(n_frames, video_dim, mlp_ratio)\n",
    "        self.temporal_block = TemporalBlock(\n",
    "            video_dim=video_dim,\n",
    "            audio_dim=audio_dim,\n",
    "            window_size=7,\n",
    "            n_frames=n_frames,\n",
    "            audio_length=audio_length,\n",
    "            video_size=video_size,\n",
    "            attn_dropout=attn_dropout\n",
    "        )\n",
    "\n",
    "        # self.video_norm = LayerNorm(video_dim)\n",
    "        # self.audio_norm = LayerNorm(audio_dim)\n",
    "        self.video_norm1 = nn.BatchNorm3d(video_dim)\n",
    "        self.video_norm2 = nn.BatchNorm3d(video_dim)\n",
    "        self.audio_norm = nn.BatchNorm1d(audio_dim)\n",
    "        self.apply(weight_init)\n",
    "\n",
    "    def forward(self, data, grad_cam=False):\n",
    "        video, audio = data\n",
    "        B, C, T, H, W = video.shape\n",
    "\n",
    "        x = self.spatial_block(video)\n",
    "        x = self.video_norm1(x)\n",
    "        \n",
    "        # if grad_cam:\n",
    "        #     x, y, features = self.temporal_block(x, audio, grad_cam=grad_cam)\n",
    "        #     x = self.video_norm2(x)\n",
    "        #     y = self.audio_norm(y)\n",
    "        #     return (x, y, features)\n",
    "        # else:\n",
    "        x, y = self.temporal_block(x, audio)\n",
    "        x = self.video_norm2(x)\n",
    "        y = self.audio_norm(y)\n",
    "        return (x, y)"
   ]
  }
 ],
 "metadata": {
  "jupytext": {
   "formats": "ipynb,py:light"
  },
  "kernelspec": {
   "display_name": "Python 3 (ipykernel)",
   "language": "python",
   "name": "python3"
  },
  "language_info": {
   "codemirror_mode": {
    "name": "ipython",
    "version": 3
   },
   "file_extension": ".py",
   "mimetype": "text/x-python",
   "name": "python",
   "nbconvert_exporter": "python",
   "pygments_lexer": "ipython3",
   "version": "3.9.16"
  }
 },
 "nbformat": 4,
 "nbformat_minor": 5
}
