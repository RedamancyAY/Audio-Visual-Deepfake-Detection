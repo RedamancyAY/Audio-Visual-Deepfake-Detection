{
 "cells": [
  {
   "cell_type": "code",
   "execution_count": 1,
   "id": "ed292dd3-9a1e-49b4-bb9c-824abd9a3604",
   "metadata": {
    "execution": {
     "iopub.execute_input": "2023-04-11T11:51:00.641137Z",
     "iopub.status.busy": "2023-04-11T11:51:00.640671Z",
     "iopub.status.idle": "2023-04-11T11:51:00.659075Z",
     "shell.execute_reply": "2023-04-11T11:51:00.658619Z",
     "shell.execute_reply.started": "2023-04-11T11:51:00.641103Z"
    },
    "tags": []
   },
   "outputs": [],
   "source": [
    "%load_ext autoreload\n",
    "%autoreload 2"
   ]
  },
  {
   "cell_type": "markdown",
   "id": "dd87fd82-1ba9-4243-855a-25100924ff4b",
   "metadata": {},
   "source": [
    "# import packages"
   ]
  },
  {
   "cell_type": "code",
   "execution_count": 2,
   "id": "d18ccd4c-8c46-4171-80d6-2bbe17e6ad4e",
   "metadata": {
    "execution": {
     "iopub.execute_input": "2023-04-11T11:51:02.905493Z",
     "iopub.status.busy": "2023-04-11T11:51:02.905078Z",
     "iopub.status.idle": "2023-04-11T11:51:04.075494Z",
     "shell.execute_reply": "2023-04-11T11:51:04.074849Z",
     "shell.execute_reply.started": "2023-04-11T11:51:02.905458Z"
    },
    "tags": []
   },
   "outputs": [],
   "source": [
    "import math\n",
    "\n",
    "import numpy as np\n",
    "import torch\n",
    "import torch.nn as nn\n",
    "import torch.nn.functional as F\n",
    "import torchvision.transforms as T\n",
    "from einops import rearrange"
   ]
  },
  {
   "cell_type": "code",
   "execution_count": null,
   "id": "00ed5b0b-e390-4bfc-bf50-a3e67d6f60b4",
   "metadata": {
    "tags": [
     "style-activity"
    ]
   },
   "outputs": [],
   "source": [
    "from .conv_attention import MLP, Attention\n",
    "from .utils import weight_init, LayerNorm"
   ]
  },
  {
   "cell_type": "code",
   "execution_count": null,
   "id": "2c2719e6-ffeb-48e1-9b0e-9455bcad86e0",
   "metadata": {
    "tags": [
     "active-ipynb"
    ]
   },
   "outputs": [],
   "source": [
    "from conv_attention import MLP, Attention\n",
    "from utils import weight_init, LayerNorm"
   ]
  },
  {
   "cell_type": "code",
   "execution_count": 3,
   "id": "8f756b98-6a37-4d76-8cb0-fde7b99a4ad8",
   "metadata": {
    "execution": {
     "iopub.execute_input": "2023-04-11T11:51:22.868064Z",
     "iopub.status.busy": "2023-04-11T11:51:22.867584Z",
     "iopub.status.idle": "2023-04-11T11:51:23.129730Z",
     "shell.execute_reply": "2023-04-11T11:51:23.129159Z",
     "shell.execute_reply.started": "2023-04-11T11:51:22.868031Z"
    },
    "tags": []
   },
   "outputs": [],
   "source": [
    "from timm.models.layers import DropPath, to_2tuple, trunc_normal_"
   ]
  },
  {
   "cell_type": "markdown",
   "id": "814ae51d-809a-4919-be27-9b80a6316806",
   "metadata": {},
   "source": [
    "# Spatial Block"
   ]
  },
  {
   "cell_type": "code",
   "execution_count": 9,
   "id": "3684b018-2b28-47eb-97e7-7fcfe85ecbed",
   "metadata": {
    "execution": {
     "iopub.execute_input": "2023-03-12T06:58:16.555899Z",
     "iopub.status.busy": "2023-03-12T06:58:16.555575Z",
     "iopub.status.idle": "2023-03-12T06:58:16.562655Z",
     "shell.execute_reply": "2023-03-12T06:58:16.561593Z",
     "shell.execute_reply.started": "2023-03-12T06:58:16.555872Z"
    }
   },
   "outputs": [],
   "source": [
    "import torch\n",
    "import torch.nn as nn\n",
    "\n",
    "\n",
    "class ChannelAttention(nn.Module):\n",
    "    def __init__(self, in_planes, ratio=16):\n",
    "        super(ChannelAttention, self).__init__()\n",
    "        self.avg_pool = nn.AdaptiveAvgPool3d(1)\n",
    "        self.max_pool = nn.AdaptiveMaxPool3d(1)\n",
    "\n",
    "        self.fc1 = nn.Conv3d(in_planes, in_planes // ratio, 1, bias=False)\n",
    "        self.relu = nn.ReLU(inplace=True)\n",
    "        self.fc2 = nn.Conv3d(in_planes // ratio, in_planes, 1, bias=False)\n",
    "        self.sigmoid = nn.Sigmoid()\n",
    "\n",
    "    def forward(self, x):\n",
    "        avg_out = self.fc2(self.relu(self.fc1(self.avg_pool(x))))\n",
    "        max_out = self.fc2(self.relu(self.fc1(self.max_pool(x))))\n",
    "        out = avg_out + max_out\n",
    "        return self.sigmoid(out) * x"
   ]
  },
  {
   "cell_type": "markdown",
   "id": "f4e5cfa6-eae8-4351-9e45-4f2988b8933a",
   "metadata": {
    "tags": []
   },
   "source": [
    "## Spatial Pooler\n"
   ]
  },
  {
   "cell_type": "code",
   "execution_count": 3,
   "id": "53242a92-f9d5-4a29-b73a-775e7a1cb3d2",
   "metadata": {
    "execution": {
     "iopub.execute_input": "2023-03-07T13:25:09.604837Z",
     "iopub.status.busy": "2023-03-07T13:25:09.604247Z",
     "iopub.status.idle": "2023-03-07T13:25:09.613423Z",
     "shell.execute_reply": "2023-03-07T13:25:09.612433Z",
     "shell.execute_reply.started": "2023-03-07T13:25:09.604801Z"
    }
   },
   "outputs": [],
   "source": [
    "class SpatialPooler(nn.Module):\n",
    "\n",
    "    def __init__(self, dim, n_frames):\n",
    "        super().__init__()\n",
    "\n",
    "        # self.channel_attn = ChannelAttention(in_planes=n_frames, ratio=1)\n",
    "\n",
    "        self.pool_layer = nn.Conv3d(n_frames, n_frames, kernel_size=1, bias=False)\n",
    "        self.unpool_layer = nn.Conv3d(n_frames, n_frames, kernel_size=1, bias=False)\n",
    "\n",
    "        # self.pool_layer = nn.Conv3d(\n",
    "        #     n_frames, n_frames, kernel_size=3, padding=1, bias=False\n",
    "        # )\n",
    "        # self.unpool_layer = nn.Conv3d(\n",
    "        #     n_frames, n_frames, kernel_size=3, padding=1, bias=False\n",
    "        # )\n",
    "\n",
    "        self.n_frames = n_frames\n",
    "\n",
    "    def pool(self, x):\n",
    "        x = x.transpose(1, 2)\n",
    "        # x = self.channel_attn(x)\n",
    "        x = self.pool_layer(x)\n",
    "        x = rearrange(x, \"b t c h w -> (b t) c h w\")\n",
    "        return x\n",
    "\n",
    "    def unpool(self, x):\n",
    "        x = rearrange(x, \"(b t) c h w -> b t c h w\", t=self.n_frames)\n",
    "        x = self.unpool_layer(x)\n",
    "        x = x.transpose(1, 2)\n",
    "        return x\n",
    "\n",
    "    def forward(self, x, operation=\"pool\"):\n",
    "        assert operation in [\"pool\", \"unpool\"]\n",
    "        if operation == \"pool\":\n",
    "            return self.pool(x)\n",
    "        else:\n",
    "            return self.unpool(x)"
   ]
  },
  {
   "cell_type": "markdown",
   "id": "1d02b66b-706c-4aea-8027-9d7981c9d2f5",
   "metadata": {},
   "source": [
    "## block"
   ]
  },
  {
   "cell_type": "code",
   "execution_count": 8,
   "id": "03d2257f-050f-449f-980b-b8b85aed1979",
   "metadata": {
    "execution": {
     "iopub.execute_input": "2023-01-12T04:40:54.008978Z",
     "iopub.status.busy": "2023-01-12T04:40:54.008643Z",
     "iopub.status.idle": "2023-01-12T04:40:54.038426Z",
     "shell.execute_reply": "2023-01-12T04:40:54.037604Z",
     "shell.execute_reply.started": "2023-01-12T04:40:54.008956Z"
    }
   },
   "outputs": [],
   "source": [
    "class TempBlock(nn.Module):\n",
    "    def __init__(self, dim, mlp_ratio=4.0, drop_path=0.1):\n",
    "        super().__init__()\n",
    "\n",
    "        self.attn = Attention(dim)\n",
    "        self.mlp = MLP(dim, mlp_ratio)\n",
    "        alpha_0 = 1e-2\n",
    "        self.alpha_1 = nn.Parameter(alpha_0 * torch.ones((dim)), requires_grad=True)\n",
    "        self.alpha_2 = nn.Parameter(alpha_0 * torch.ones((dim)), requires_grad=True)\n",
    "\n",
    "        self.drop_path = DropPath(drop_path) if drop_path > 0.0 else nn.Identity()\n",
    "        self.apply(weight_init)\n",
    "\n",
    "    def forward(self, x):\n",
    "        x = x + self.drop_path(self.alpha_1.unsqueeze(-1).unsqueeze(-1) * self.attn(x))\n",
    "        x = x + self.drop_path(self.alpha_2.unsqueeze(-1).unsqueeze(-1) * self.mlp(x))\n",
    "        return x"
   ]
  },
  {
   "cell_type": "code",
   "execution_count": 9,
   "id": "f08efb24-6ea4-4475-8663-7039ef454439",
   "metadata": {
    "execution": {
     "iopub.execute_input": "2023-01-12T04:40:54.039616Z",
     "iopub.status.busy": "2023-01-12T04:40:54.039374Z",
     "iopub.status.idle": "2023-01-12T04:40:54.056700Z",
     "shell.execute_reply": "2023-01-12T04:40:54.055995Z",
     "shell.execute_reply.started": "2023-01-12T04:40:54.039593Z"
    }
   },
   "outputs": [],
   "source": [
    "class SpatialBlock(nn.Module):\n",
    "    def __init__(self, n_frames, dim, mlp_ratio=4.0):\n",
    "        super().__init__()\n",
    "        self.block = TempBlock(dim=dim, mlp_ratio=mlp_ratio)\n",
    "        self.pooler = SpatialPooler(dim=dim, n_frames=n_frames)\n",
    "\n",
    "    def forward(self, x):\n",
    "        x = self.pooler.pool(x)\n",
    "        x = self.block(x)\n",
    "        x = self.pooler.unpool(x)\n",
    "        return x"
   ]
  }
 ],
 "metadata": {
  "jupytext": {
   "formats": "ipynb,py:light"
  },
  "kernelspec": {
   "display_name": "Python 3 (ipykernel)",
   "language": "python",
   "name": "python3"
  },
  "language_info": {
   "codemirror_mode": {
    "name": "ipython",
    "version": 3
   },
   "file_extension": ".py",
   "mimetype": "text/x-python",
   "name": "python",
   "nbconvert_exporter": "python",
   "pygments_lexer": "ipython3",
   "version": "3.9.16"
  }
 },
 "nbformat": 4,
 "nbformat_minor": 5
}
