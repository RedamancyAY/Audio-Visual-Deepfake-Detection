{
 "cells": [
  {
   "cell_type": "code",
   "execution_count": 1,
   "id": "3f9afe2f-09fd-4e23-bd42-a1e089255b28",
   "metadata": {
    "execution": {
     "iopub.execute_input": "2023-03-07T12:50:15.676653Z",
     "iopub.status.busy": "2023-03-07T12:50:15.675954Z",
     "iopub.status.idle": "2023-03-07T12:50:15.711162Z",
     "shell.execute_reply": "2023-03-07T12:50:15.710247Z",
     "shell.execute_reply.started": "2023-03-07T12:50:15.676535Z"
    },
    "tags": []
   },
   "outputs": [],
   "source": [
    "%load_ext autoreload\n",
    "%autoreload 2"
   ]
  },
  {
   "cell_type": "markdown",
   "id": "4c550baa-979a-442e-872d-45ea3eaba5d2",
   "metadata": {},
   "source": [
    "# import packages"
   ]
  },
  {
   "cell_type": "code",
   "execution_count": 4,
   "id": "f0381313-95ea-4a82-b578-3762abae8a37",
   "metadata": {
    "execution": {
     "iopub.execute_input": "2023-03-07T12:50:34.851052Z",
     "iopub.status.busy": "2023-03-07T12:50:34.850442Z",
     "iopub.status.idle": "2023-03-07T12:50:34.879520Z",
     "shell.execute_reply": "2023-03-07T12:50:34.878596Z",
     "shell.execute_reply.started": "2023-03-07T12:50:34.851008Z"
    },
    "tags": []
   },
   "outputs": [],
   "source": [
    "import numpy as np\n",
    "import torch\n",
    "import torch.nn as nn\n",
    "from einops import rearrange"
   ]
  },
  {
   "cell_type": "code",
   "execution_count": null,
   "id": "00ed5b0b-e390-4bfc-bf50-a3e67d6f60b4",
   "metadata": {
    "tags": [
     "style-activity"
    ]
   },
   "outputs": [],
   "source": [
    "from .utils import weight_init, LayerNorm"
   ]
  },
  {
   "cell_type": "code",
   "execution_count": null,
   "id": "2c2719e6-ffeb-48e1-9b0e-9455bcad86e0",
   "metadata": {
    "tags": [
     "active-ipynb"
    ]
   },
   "outputs": [],
   "source": [
    "from utils import weight_init, LayerNorm"
   ]
  },
  {
   "cell_type": "markdown",
   "id": "4611913a-1f8e-43e0-96e0-0580f54851c4",
   "metadata": {},
   "source": [
    "### MLP"
   ]
  },
  {
   "cell_type": "code",
   "execution_count": 5,
   "id": "8be6b602-ad5c-4c95-81f9-a2bd9706156b",
   "metadata": {
    "execution": {
     "iopub.execute_input": "2023-03-07T12:50:36.290165Z",
     "iopub.status.busy": "2023-03-07T12:50:36.289558Z",
     "iopub.status.idle": "2023-03-07T12:50:36.317207Z",
     "shell.execute_reply": "2023-03-07T12:50:36.316419Z",
     "shell.execute_reply.started": "2023-03-07T12:50:36.290123Z"
    },
    "tags": []
   },
   "outputs": [],
   "source": [
    "class MLP(nn.Module):\n",
    "    def __init__(self, dim, mlp_ratio=4, drop=0.):\n",
    "        super().__init__()\n",
    "\n",
    "        self.norm = nn.BatchNorm2d(dim)\n",
    "\n",
    "        _dim = int(dim * mlp_ratio)\n",
    "        self.cff = nn.Sequential(\n",
    "            nn.Conv2d(dim, _dim, 1),\n",
    "            nn.Conv2d(_dim, _dim, 3, 1, padding=1, bias=True, groups=_dim),\n",
    "            nn.ReLU(inplace=True),\n",
    "            nn.Dropout(drop),\n",
    "            nn.Conv2d(_dim, dim, 1),\n",
    "            nn.Dropout(drop),\n",
    "        )\n",
    "        self.apply(weight_init)\n",
    "        \n",
    "    def forward(self, x):\n",
    "        B, C, H, W = x.shape\n",
    "        x = self.norm(x)\n",
    "        x = self.cff(x)\n",
    "        return x"
   ]
  },
  {
   "cell_type": "code",
   "execution_count": 6,
   "id": "f2987794-2363-49f0-9d3a-d01f2731e95f",
   "metadata": {
    "execution": {
     "iopub.execute_input": "2023-03-07T12:50:37.263567Z",
     "iopub.status.busy": "2023-03-07T12:50:37.262952Z",
     "iopub.status.idle": "2023-03-07T12:50:37.297056Z",
     "shell.execute_reply": "2023-03-07T12:50:37.296257Z",
     "shell.execute_reply.started": "2023-03-07T12:50:37.263523Z"
    },
    "tags": []
   },
   "outputs": [],
   "source": [
    "class Attention(nn.Module):\n",
    "    def __init__(self, dim):\n",
    "        super().__init__()\n",
    "        self.norm = nn.BatchNorm2d(dim)\n",
    "\n",
    "        self.proj_1 = nn.Conv2d(dim, dim, 1)\n",
    "        self.activation = nn.ReLU(inplace=True)\n",
    "        self.LKA = nn.Sequential(\n",
    "            nn.Conv2d(dim, dim, 5, padding=2, groups=dim),\n",
    "            # nn.Conv2d(dim, dim, 3, padding=1, groups=dim),\n",
    "            nn.Conv2d(dim, dim, 7, stride=1, padding=9, groups=dim, dilation=3),\n",
    "            # nn.Conv2d(dim, dim, 5, stride=1, padding=4, groups=dim, dilation=2),\n",
    "            nn.Conv2d(dim, dim, 1),\n",
    "        )\n",
    "        self.proj_2 = nn.Conv2d(dim, dim, 1)\n",
    "\n",
    "        self.apply(weight_init)\n",
    "\n",
    "    def forward(self, x):\n",
    "        B, C, H, W = x.shape\n",
    "\n",
    "        x = self.norm(x)\n",
    "        shorcut = x.clone()\n",
    "        x = self.proj_1(x)\n",
    "        x = self.activation(x)\n",
    "        x = self.LKA(x) * x\n",
    "        x = self.proj_2(x)\n",
    "        x = x + shorcut\n",
    "        return x"
   ]
  }
 ],
 "metadata": {
  "jupytext": {
   "formats": "ipynb,py:light"
  },
  "kernelspec": {
   "display_name": "Python 3 (ipykernel)",
   "language": "python",
   "name": "python3"
  },
  "language_info": {
   "codemirror_mode": {
    "name": "ipython",
    "version": 3
   },
   "file_extension": ".py",
   "mimetype": "text/x-python",
   "name": "python",
   "nbconvert_exporter": "python",
   "pygments_lexer": "ipython3",
   "version": "3.9.16"
  }
 },
 "nbformat": 4,
 "nbformat_minor": 5
}
