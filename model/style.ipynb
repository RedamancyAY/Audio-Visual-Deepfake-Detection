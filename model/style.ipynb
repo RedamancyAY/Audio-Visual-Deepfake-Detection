{
 "cells": [
  {
   "cell_type": "code",
   "execution_count": 2,
   "id": "83be3edb-0a19-4386-8866-4590bff292f3",
   "metadata": {
    "execution": {
     "iopub.execute_input": "2023-04-21T08:22:50.147587Z",
     "iopub.status.busy": "2023-04-21T08:22:50.146732Z",
     "iopub.status.idle": "2023-04-21T08:22:51.258357Z",
     "shell.execute_reply": "2023-04-21T08:22:51.257883Z",
     "shell.execute_reply.started": "2023-04-21T08:22:50.147543Z"
    },
    "tags": []
   },
   "outputs": [],
   "source": [
    "import random\n",
    "\n",
    "import torch\n",
    "import torch.nn as nn"
   ]
  },
  {
   "cell_type": "code",
   "execution_count": 3,
   "id": "469e5b9b-35d1-4b2a-b3e2-c5a831343593",
   "metadata": {
    "execution": {
     "iopub.execute_input": "2023-04-21T08:22:51.259638Z",
     "iopub.status.busy": "2023-04-21T08:22:51.259228Z",
     "iopub.status.idle": "2023-04-21T08:22:51.262336Z",
     "shell.execute_reply": "2023-04-21T08:22:51.261977Z",
     "shell.execute_reply.started": "2023-04-21T08:22:51.259618Z"
    },
    "tags": []
   },
   "outputs": [],
   "source": [
    "def get_style(t, dims):\n",
    "    mu = torch.mean(t, dim=dims, keepdim=True)\n",
    "    diff = torch.square(t - mu)\n",
    "    diff_mean = torch.mean(diff, dim=dims, keepdim=True)\n",
    "    sigma = torch.sqrt(diff_mean + 0.000001)\n",
    "    return mu, sigma"
   ]
  },
  {
   "cell_type": "code",
   "execution_count": 4,
   "id": "29b656b2-72d7-4f38-b3f5-0cf63892a416",
   "metadata": {
    "execution": {
     "iopub.execute_input": "2023-04-21T08:22:51.263013Z",
     "iopub.status.busy": "2023-04-21T08:22:51.262837Z",
     "iopub.status.idle": "2023-04-21T08:22:51.282018Z",
     "shell.execute_reply": "2023-04-21T08:22:51.281571Z",
     "shell.execute_reply.started": "2023-04-21T08:22:51.263000Z"
    },
    "tags": []
   },
   "outputs": [],
   "source": [
    "def change_style(z1, z2, dims=[-1], alpha=-1):\n",
    "    mu1, sigma1 = get_style(z1, dims=dims)\n",
    "    mu2, sigma2 = get_style(z2, dims=dims)\n",
    "\n",
    "    if alpha == -1:\n",
    "        alpha = random.random()\n",
    "        \n",
    "    mu_hat = alpha * mu1 + (1.0 - alpha) * mu2\n",
    "    sigma_hat = alpha * sigma1 + (1.0 - alpha) * sigma2\n",
    "    z_prime = sigma_hat * ((z1 - mu1) / sigma1) + mu_hat\n",
    "    return z_prime"
   ]
  },
  {
   "cell_type": "code",
   "execution_count": 5,
   "id": "1a1b1e04-26e3-4946-8e23-3c64cc69cf0d",
   "metadata": {
    "execution": {
     "iopub.execute_input": "2023-04-21T08:22:51.282848Z",
     "iopub.status.busy": "2023-04-21T08:22:51.282635Z",
     "iopub.status.idle": "2023-04-21T08:22:51.293431Z",
     "shell.execute_reply": "2023-04-21T08:22:51.292836Z",
     "shell.execute_reply.started": "2023-04-21T08:22:51.282832Z"
    },
    "tags": []
   },
   "outputs": [],
   "source": [
    "def style_aug(z, dims=[-1], ids=None):\n",
    "    if ids is None:\n",
    "        ids = list(range(len(z)))\n",
    "        random.shuffle(ids)\n",
    "    z_styled = change_style(z, z[ids, ...], dims=dims)\n",
    "    z_adv = change_style(z[ids, ...], z, dims=dims, alpha=0)\n",
    "    return z_styled, z_adv"
   ]
  },
  {
   "cell_type": "code",
   "execution_count": 6,
   "id": "acf2e88d-6e90-44f3-b16a-35793b717d95",
   "metadata": {
    "execution": {
     "iopub.execute_input": "2023-04-21T08:22:51.295654Z",
     "iopub.status.busy": "2023-04-21T08:22:51.295226Z",
     "iopub.status.idle": "2023-04-21T08:22:51.305157Z",
     "shell.execute_reply": "2023-04-21T08:22:51.304093Z",
     "shell.execute_reply.started": "2023-04-21T08:22:51.295625Z"
    },
    "tags": []
   },
   "outputs": [],
   "source": [
    "def style_tensors(*tensors, dims=[-1]):\n",
    "    ids = list(range(len(tensors[0])))\n",
    "    random.shuffle(ids)\n",
    "    res = []\n",
    "    for tensor in tensors:\n",
    "        res.append(style_aug(tensor, dims=dims, ids=ids))\n",
    "    return res"
   ]
  },
  {
   "cell_type": "code",
   "execution_count": 7,
   "id": "afca3325-be34-4a2f-9396-faa862a1c990",
   "metadata": {
    "execution": {
     "iopub.execute_input": "2023-04-21T08:22:51.307169Z",
     "iopub.status.busy": "2023-04-21T08:22:51.306534Z",
     "iopub.status.idle": "2023-04-21T08:22:51.328237Z",
     "shell.execute_reply": "2023-04-21T08:22:51.327041Z",
     "shell.execute_reply.started": "2023-04-21T08:22:51.307128Z"
    },
    "tags": [
     "active-ipynb"
    ]
   },
   "outputs": [],
   "source": [
    "f_video, f_audio = torch.rand(16, 3, 1024), torch.rand(16, 3, 1024)\n",
    "\n",
    "style_aug(f_video)\n",
    "\n",
    "(f_a_style, f_a_adv), (f_v_style, f_v_adv) = style_tensors(f_audio, f_video)"
   ]
  },
  {
   "cell_type": "code",
   "execution_count": 8,
   "id": "4469966b-8a39-404f-af0e-f61f866e89dc",
   "metadata": {
    "execution": {
     "iopub.execute_input": "2023-04-21T08:22:51.330771Z",
     "iopub.status.busy": "2023-04-21T08:22:51.329948Z",
     "iopub.status.idle": "2023-04-21T08:22:51.337562Z",
     "shell.execute_reply": "2023-04-21T08:22:51.336893Z",
     "shell.execute_reply.started": "2023-04-21T08:22:51.330721Z"
    },
    "tags": [
     "active-ipynb"
    ]
   },
   "outputs": [
    {
     "name": "stdout",
     "output_type": "stream",
     "text": [
      "torch.Size([256, 1, 3, 3, 3])\n",
      "torch.Size([256])\n"
     ]
    }
   ],
   "source": [
    "for para in nn.Conv3d(256, 256, 3, padding=1, groups=256).parameters():\n",
    "    print(para.shape)"
   ]
  },
  {
   "cell_type": "code",
   "execution_count": 9,
   "id": "90e73f49-0577-486e-b69b-d965172de314",
   "metadata": {
    "execution": {
     "iopub.execute_input": "2023-04-21T08:22:51.339033Z",
     "iopub.status.busy": "2023-04-21T08:22:51.338458Z",
     "iopub.status.idle": "2023-04-21T08:22:51.353132Z",
     "shell.execute_reply": "2023-04-21T08:22:51.352358Z",
     "shell.execute_reply.started": "2023-04-21T08:22:51.339005Z"
    },
    "tags": []
   },
   "outputs": [],
   "source": [
    "def fuse_audio_video_with_p(f_video, f_audio):\n",
    "    B = f_video.shape[0]\n",
    "    ids = random.sample(list(range(B)), B)\n",
    "    shuffle_ids = ids[: B // 2]\n",
    "    shuffle_ids2 = ids[B // 2 :]\n",
    "    res = torch.concat([f_video, f_audio], dim=-1)\n",
    "    res[shuffle_ids, :] = torch.concat(\n",
    "        [f_video[shuffle_ids, :], f_audio[shuffle_ids2, :]], dim=-1\n",
    "    )\n",
    "    return res, shuffle_ids"
   ]
  },
  {
   "cell_type": "code",
   "execution_count": 10,
   "id": "9be24ffc-aeca-4c40-8ea5-f6703ec51d2d",
   "metadata": {
    "execution": {
     "iopub.execute_input": "2023-04-21T08:22:51.354284Z",
     "iopub.status.busy": "2023-04-21T08:22:51.354007Z",
     "iopub.status.idle": "2023-04-21T08:22:51.377540Z",
     "shell.execute_reply": "2023-04-21T08:22:51.376793Z",
     "shell.execute_reply.started": "2023-04-21T08:22:51.354258Z"
    },
    "scrolled": true,
    "tags": [
     "active-ipynb"
    ]
   },
   "outputs": [
    {
     "data": {
      "text/plain": [
       "(tensor([[[0.3621, 0.8210, 0.2526,  ..., 0.3885, 0.5031, 0.7670],\n",
       "          [0.9842, 0.4927, 0.3066,  ..., 0.0049, 0.9713, 0.4688],\n",
       "          [0.8444, 0.4985, 0.1776,  ..., 0.9809, 0.3983, 0.7339]],\n",
       " \n",
       "         [[0.2346, 0.9648, 0.3303,  ..., 0.5126, 0.6680, 0.1643],\n",
       "          [0.1991, 0.4186, 0.5656,  ..., 0.1372, 0.3342, 0.4348],\n",
       "          [0.3077, 0.7347, 0.4348,  ..., 0.5088, 0.9867, 0.4648]],\n",
       " \n",
       "         [[0.8383, 0.6945, 0.9600,  ..., 0.3152, 0.6015, 0.0760],\n",
       "          [0.7534, 0.6611, 0.9517,  ..., 0.8275, 0.2450, 0.8317],\n",
       "          [0.5968, 0.1178, 0.5724,  ..., 0.9501, 0.6088, 0.0088]],\n",
       " \n",
       "         ...,\n",
       " \n",
       "         [[0.2669, 0.7850, 0.7322,  ..., 0.2213, 0.7151, 0.2965],\n",
       "          [0.1696, 0.9538, 0.1899,  ..., 0.2122, 0.5088, 0.1797],\n",
       "          [0.7217, 0.2593, 0.4761,  ..., 0.9330, 0.7914, 0.9525]],\n",
       " \n",
       "         [[0.6970, 0.9671, 0.4331,  ..., 0.5650, 0.8449, 0.0608],\n",
       "          [0.2549, 0.5054, 0.5485,  ..., 0.7795, 0.6867, 0.1536],\n",
       "          [0.8304, 0.1958, 0.0025,  ..., 0.5618, 0.7073, 0.6164]],\n",
       " \n",
       "         [[0.0528, 0.3209, 0.1290,  ..., 0.9991, 0.4423, 0.4188],\n",
       "          [0.5531, 0.7498, 0.6632,  ..., 0.2353, 0.5581, 0.3489],\n",
       "          [0.7703, 0.6841, 0.0444,  ..., 0.4563, 0.2451, 0.3522]]]),\n",
       " [15, 7, 10, 1, 12, 8, 0, 3])"
      ]
     },
     "execution_count": 10,
     "metadata": {},
     "output_type": "execute_result"
    }
   ],
   "source": [
    "fuse_aduio_video_with_p(f_video, f_audio)"
   ]
  },
  {
   "cell_type": "code",
   "execution_count": 19,
   "id": "e94c8041-83c9-4be6-a408-9c8b0cf5f3a7",
   "metadata": {
    "execution": {
     "iopub.execute_input": "2023-04-21T08:26:21.996332Z",
     "iopub.status.busy": "2023-04-21T08:26:21.994737Z",
     "iopub.status.idle": "2023-04-21T08:26:22.005469Z",
     "shell.execute_reply": "2023-04-21T08:26:22.004216Z",
     "shell.execute_reply.started": "2023-04-21T08:26:21.996255Z"
    },
    "tags": []
   },
   "outputs": [],
   "source": [
    "def fuse_audio_video_with_shuffle(f_video, f_audio):\n",
    "    B = f_video.shape[0]\n",
    "    ids = random.sample(list(range(B)), B)\n",
    "    shuffle_ids = [x for i, x in enumerate(ids) if x != i]\n",
    "    res = torch.concat([f_video, f_audio[ids, :]], dim=-1)\n",
    "    return res, shuffle_ids"
   ]
  }
 ],
 "metadata": {
  "jupytext": {
   "formats": "ipynb,py:light"
  },
  "kernelspec": {
   "display_name": "Python 3 (ipykernel)",
   "language": "python",
   "name": "python3"
  },
  "language_info": {
   "codemirror_mode": {
    "name": "ipython",
    "version": 3
   },
   "file_extension": ".py",
   "mimetype": "text/x-python",
   "name": "python",
   "nbconvert_exporter": "python",
   "pygments_lexer": "ipython3",
   "version": "3.9.16"
  }
 },
 "nbformat": 4,
 "nbformat_minor": 5
}
