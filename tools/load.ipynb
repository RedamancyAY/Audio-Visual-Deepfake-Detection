{
 "cells": [
  {
   "cell_type": "code",
   "execution_count": 1,
   "id": "ba8ebd14-10cc-4aa7-a906-c17090e2c736",
   "metadata": {
    "execution": {
     "iopub.execute_input": "2023-04-10T14:18:43.661209Z",
     "iopub.status.busy": "2023-04-10T14:18:43.660677Z",
     "iopub.status.idle": "2023-04-10T14:18:43.676211Z",
     "shell.execute_reply": "2023-04-10T14:18:43.675149Z",
     "shell.execute_reply.started": "2023-04-10T14:18:43.661095Z"
    },
    "tags": []
   },
   "outputs": [],
   "source": [
    "import os"
   ]
  },
  {
   "cell_type": "code",
   "execution_count": 13,
   "id": "1780f977-bf83-4295-8363-8a6dc60a8eea",
   "metadata": {
    "execution": {
     "iopub.execute_input": "2023-04-10T14:22:30.271140Z",
     "iopub.status.busy": "2023-04-10T14:22:30.270454Z",
     "iopub.status.idle": "2023-04-10T14:22:30.277876Z",
     "shell.execute_reply": "2023-04-10T14:22:30.276766Z",
     "shell.execute_reply.started": "2023-04-10T14:22:30.271092Z"
    },
    "tags": []
   },
   "outputs": [],
   "source": [
    "def get_best_ckpt_path(root_path, cfg_name, version):\n",
    "\n",
    "    ckpt_folder = \"%s/%s/version_%d/checkpoints\" % (root_path, cfg_name, version)\n",
    "\n",
    "    ckpt_path = os.path.join(ckpt_folder, os.listdir(ckpt_folder)[0])\n",
    "\n",
    "    return ckpt_path"
   ]
  },
  {
   "cell_type": "code",
   "execution_count": null,
   "id": "44ddc05d-064c-4995-ae52-d1f5817bd0bc",
   "metadata": {},
   "outputs": [],
   "source": [
    "def get_best_ckpt_path_ay(root_path, cfg_name, version, monitor='total'):\n",
    "    \n",
    "    ckpt_folder = \"%s/%s/version_%d/checkpoints\" % (root_path, cfg_name, version)\n",
    "    ckpt_folder = ckpt_folder.replace('//', '/')\n",
    "\n",
    "    # print(os.listdir(ckpt_folder))\n",
    "    \n",
    "    for file in os.listdir(ckpt_folder):\n",
    "        if '-%s_best'%monitor in file:\n",
    "            print(file, monitor)\n",
    "            return os.path.join(ckpt_folder, file)\n",
    "\n",
    "        \n",
    "    raise ValueError(\"NO ckpt path!!!!!!!!!!! in %s\"%ckpt_folder)"
   ]
  }
 ],
 "metadata": {
  "jupytext": {
   "formats": "ipynb,py:light"
  },
  "kernelspec": {
   "display_name": "Python 3 (ipykernel)",
   "language": "python",
   "name": "python3"
  },
  "language_info": {
   "codemirror_mode": {
    "name": "ipython",
    "version": 3
   },
   "file_extension": ".py",
   "mimetype": "text/x-python",
   "name": "python",
   "nbconvert_exporter": "python",
   "pygments_lexer": "ipython3",
   "version": "3.9.16"
  }
 },
 "nbformat": 4,
 "nbformat_minor": 5
}
