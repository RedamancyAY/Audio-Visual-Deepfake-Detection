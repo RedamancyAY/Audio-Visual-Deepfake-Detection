{
 "cells": [
  {
   "cell_type": "code",
   "execution_count": 7,
   "id": "246035f4-28e9-44e3-8786-fa41bb313d93",
   "metadata": {
    "execution": {
     "iopub.execute_input": "2023-03-04T06:26:11.262655Z",
     "iopub.status.busy": "2023-03-04T06:26:11.262140Z",
     "iopub.status.idle": "2023-03-04T06:26:11.269268Z",
     "shell.execute_reply": "2023-03-04T06:26:11.268144Z",
     "shell.execute_reply.started": "2023-03-04T06:26:11.262607Z"
    },
    "tags": []
   },
   "outputs": [],
   "source": [
    "import torch\n",
    "import torch.nn as nn\n",
    "import torchmetrics\n",
    "from torchmetrics.classification import (\n",
    "    BinaryAccuracy,\n",
    "    BinaryAUROC,\n",
    "    BinaryF1Score,\n",
    "    MulticlassAccuracy,\n",
    "    MulticlassAUROC,\n",
    "    MulticlassF1Score,\n",
    ")"
   ]
  },
  {
   "cell_type": "code",
   "execution_count": 9,
   "id": "dc35cc2a-44c9-4c06-8e2a-3f6b9fc9cf00",
   "metadata": {
    "execution": {
     "iopub.execute_input": "2023-03-04T06:27:15.193746Z",
     "iopub.status.busy": "2023-03-04T06:27:15.193137Z",
     "iopub.status.idle": "2023-03-04T06:27:15.212700Z",
     "shell.execute_reply": "2023-03-04T06:27:15.211640Z",
     "shell.execute_reply.started": "2023-03-04T06:27:15.193690Z"
    },
    "tags": []
   },
   "outputs": [],
   "source": [
    "class Classification_Metrics(object):\n",
    "    def __init__(self, metrics, num_classes=2):\n",
    "        super().__init__()\n",
    "        metrics = [_m.lower() for _m in metrics]\n",
    "        self.metrics = metrics\n",
    "        self.num_classes = num_classes\n",
    "        self.metric_classes = []\n",
    "        for _m in metrics:\n",
    "            assert _m in [\"acc\", \"auc\", \"f1\"]\n",
    "            self.metric_classes.append(self._get_metric_from_name(_m))\n",
    "\n",
    "        # print(self.metric_classes)\n",
    "            \n",
    "    def _get_metric_from_name(self, metric_name, cuda=False):\n",
    "        if metric_name == \"acc\":\n",
    "            if self.num_classes > 2:\n",
    "                res = MulticlassAccuracy(num_classes=self.num_classes, top_k=1)\n",
    "            else:\n",
    "                res = BinaryAccuracy()\n",
    "            \n",
    "        if metric_name == \"auc\":\n",
    "            if self.num_classes > 2:\n",
    "                res = MulticlassAUROC(num_classes=self.num_classes, top_k=1)\n",
    "            else:\n",
    "                res = BinaryAUROC()\n",
    " \n",
    "        return res\n",
    "                \n",
    "    \n",
    "    def _check_device(self, preds):\n",
    "        if preds.device != self.metric_classes[0].device:\n",
    "            for i in range(len(self.metrics)):\n",
    "                self.metric_classes[i].to(preds.device)\n",
    "    \n",
    "    def deal_preds(self, preds, target):\n",
    "        if preds.shape != target.shape:\n",
    "            preds = torch.argmax(preds, dim=-1)\n",
    "        return preds\n",
    "\n",
    "    def __call__(self, preds, target, prefix=\"\"):\n",
    "        self._check_device(preds)\n",
    "        preds = self.deal_preds(preds, target)\n",
    "        res = {}\n",
    "        for _m, _cls in zip(self.metrics, self.metric_classes):\n",
    "            res[prefix + _m] = _cls(preds, target)\n",
    "        return res\n",
    "\n",
    "    def update(self, preds, target):\n",
    "        self._check_device(preds)\n",
    "        preds = self.deal_preds(preds, target)\n",
    "        for _m, _cls in zip(self.metrics, self.metric_classes):\n",
    "            _cls.update(preds, target)\n",
    "\n",
    "    def reset(self):\n",
    "        for _cls in self.metric_classes:\n",
    "            _cls.reset()\n",
    "\n",
    "    def compute(self, prefix=\"\"):\n",
    "        res = {}\n",
    "        for _m, _cls in zip(self.metrics, self.metric_classes):\n",
    "            res[prefix + _m] = _cls.compute()\n",
    "        return res"
   ]
  },
  {
   "cell_type": "code",
   "execution_count": 10,
   "id": "0aa1b59f-dc60-45e5-aa38-e8f7d5fb9a49",
   "metadata": {
    "execution": {
     "iopub.execute_input": "2023-03-04T06:27:16.240846Z",
     "iopub.status.busy": "2023-03-04T06:27:16.240389Z",
     "iopub.status.idle": "2023-03-04T06:27:16.261788Z",
     "shell.execute_reply": "2023-03-04T06:27:16.260518Z",
     "shell.execute_reply.started": "2023-03-04T06:27:16.240805Z"
    },
    "tags": [
     "active-ipynb",
     "style-student"
    ]
   },
   "outputs": [
    {
     "name": "stdout",
     "output_type": "stream",
     "text": [
      "{'acc': tensor(0.7500), 'auc': tensor(0.7500)}\n"
     ]
    },
    {
     "data": {
      "text/plain": [
       "{'train_acc': tensor(0.7143), 'train_auc': tensor(0.6667)}"
      ]
     },
     "execution_count": 10,
     "metadata": {},
     "output_type": "execute_result"
    }
   ],
   "source": [
    "my_metrics = Classification_Metrics([\"acc\", \"auc\"], num_classes=2)\n",
    "my_metrics.reset()\n",
    "target = torch.tensor([0, 0, 1, 1])\n",
    "preds = torch.tensor([[0.9, 0.1], [0.1, 0.9], [0.3, 0.7], [0.2, 0.8]])\n",
    "print(my_metrics(preds, target))\n",
    "\n",
    "target2 = torch.tensor([0, 1, 1])\n",
    "preds2 = torch.tensor([[0.1, 0.9], [0.3, 0.7], [0.2, 0.8]])\n",
    "my_metrics.update(preds2, target2)\n",
    "\n",
    "my_metrics.compute(prefix=\"train_\")"
   ]
  },
  {
   "cell_type": "code",
   "execution_count": 12,
   "id": "0792ac9b-51e3-4524-a80b-d4b167b3b567",
   "metadata": {
    "execution": {
     "iopub.execute_input": "2023-03-04T06:34:35.247061Z",
     "iopub.status.busy": "2023-03-04T06:34:35.246579Z",
     "iopub.status.idle": "2023-03-04T06:34:35.263327Z",
     "shell.execute_reply": "2023-03-04T06:34:35.262405Z",
     "shell.execute_reply.started": "2023-03-04T06:34:35.247016Z"
    },
    "tags": []
   },
   "outputs": [],
   "source": [
    "class MultiTheme_Classification_Metrics(object):\n",
    "    def __init__(self, metrics, themes, num_classes=2):\n",
    "        super().__init__()\n",
    "        self.themes = themes\n",
    "        self.metrics = metrics\n",
    "        self.classification_metrics = [\n",
    "            Classification_Metrics(metrics=metrics, num_classes=num_classes)\n",
    "            for _ in themes\n",
    "        ]\n",
    "\n",
    "    def __call__(self, preds, target):\n",
    "        assert len(preds) == len(target) and len(preds) == len(self.themes)\n",
    "        res = {}\n",
    "        for i in range(len(preds)):\n",
    "            _res = self.classification_metrics[i](\n",
    "                preds[i], target[i], prefix=self.themes[i] + \"_\"\n",
    "            )\n",
    "            res.update(_res)\n",
    "        return res\n",
    "\n",
    "    def update(self, preds, targets):\n",
    "        assert len(preds) == len(targets) and len(preds) == len(self.themes)\n",
    "        for i in range(len(preds)):\n",
    "            self.classification_metrics[i].update(preds[i], targets[i])\n",
    "\n",
    "    def update_theme(self, theme, pred, target):\n",
    "        for i, _theme in enumerate(self.themes):\n",
    "            if _theme != theme:\n",
    "                continue\n",
    "            self.classification_metrics[i].update(pred, target)\n",
    "    \n",
    "    def reset(self):\n",
    "        for _m in self.classification_metrics:\n",
    "            _m.reset()\n",
    "\n",
    "    def compute(self, prefix=\"\"):\n",
    "        res = {}\n",
    "        for i in range(len(self.themes)):\n",
    "            _prefix = prefix + self.themes[i] + \"_\"\n",
    "            _res = self.classification_metrics[i].compute(prefix=_prefix)\n",
    "            res.update(_res)\n",
    "        return res"
   ]
  },
  {
   "cell_type": "code",
   "execution_count": 13,
   "id": "ca2fdaa6-c7af-46d9-94dd-af22211ab724",
   "metadata": {
    "execution": {
     "iopub.execute_input": "2023-03-04T06:34:36.635858Z",
     "iopub.status.busy": "2023-03-04T06:34:36.635401Z",
     "iopub.status.idle": "2023-03-04T06:34:36.663152Z",
     "shell.execute_reply": "2023-03-04T06:34:36.662238Z",
     "shell.execute_reply.started": "2023-03-04T06:34:36.635816Z"
    },
    "tags": [
     "active-ipynb",
     "style-student"
    ]
   },
   "outputs": [
    {
     "name": "stdout",
     "output_type": "stream",
     "text": [
      "{'audio_acc': tensor(0.7500), 'audio_auc': tensor(0.7500), 'video_acc': tensor(0.7500), 'video_auc': tensor(0.7500)}\n"
     ]
    },
    {
     "data": {
      "text/plain": [
       "{'train_audio_acc': tensor(0.7143),\n",
       " 'train_audio_auc': tensor(0.6667),\n",
       " 'train_video_acc': tensor(0.7143),\n",
       " 'train_video_auc': tensor(0.6667)}"
      ]
     },
     "execution_count": 13,
     "metadata": {},
     "output_type": "execute_result"
    }
   ],
   "source": [
    "my_metrics = MultiTheme_Classification_Metrics(\n",
    "    themes=[\"audio\", \"video\"], metrics=[\"acc\", \"auc\"], num_classes=2\n",
    ")\n",
    "my_metrics.reset()\n",
    "target = torch.tensor([0, 0, 1, 1])\n",
    "preds = torch.tensor([[0.9, 0.1], [0.1, 0.9], [0.3, 0.7], [0.2, 0.8]])\n",
    "print(my_metrics([preds]*2, [target]*2))\n",
    "\n",
    "target2 = torch.tensor([0, 1, 1])\n",
    "preds2 = torch.tensor([[0.1, 0.9], [0.3, 0.7], [0.2, 0.8]])\n",
    "my_metrics.update([preds2]*2, [target2]*2)\n",
    "\n",
    "my_metrics.compute(prefix=\"train_\")"
   ]
  }
 ],
 "metadata": {
  "jupytext": {
   "formats": "ipynb,py:light"
  },
  "kernelspec": {
   "display_name": "Python 3 (ipykernel)",
   "language": "python",
   "name": "python3"
  },
  "language_info": {
   "codemirror_mode": {
    "name": "ipython",
    "version": 3
   },
   "file_extension": ".py",
   "mimetype": "text/x-python",
   "name": "python",
   "nbconvert_exporter": "python",
   "pygments_lexer": "ipython3",
   "version": "3.9.13"
  }
 },
 "nbformat": 4,
 "nbformat_minor": 5
}
