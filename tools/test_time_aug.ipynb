{
 "cells": [
  {
   "cell_type": "code",
   "execution_count": 1,
   "id": "b5879f85-bc38-4bf5-b720-8a23fbe39833",
   "metadata": {
    "execution": {
     "iopub.execute_input": "2023-04-23T15:10:28.716427Z",
     "iopub.status.busy": "2023-04-23T15:10:28.715770Z",
     "iopub.status.idle": "2023-04-23T15:10:28.746225Z",
     "shell.execute_reply": "2023-04-23T15:10:28.745257Z",
     "shell.execute_reply.started": "2023-04-23T15:10:28.716305Z"
    },
    "tags": []
   },
   "outputs": [],
   "source": [
    "%load_ext autoreload\n",
    "%autoreload 2"
   ]
  },
  {
   "cell_type": "code",
   "execution_count": 2,
   "id": "76afb8b7-f18d-454a-9b0b-0d403f41d7bb",
   "metadata": {
    "execution": {
     "iopub.execute_input": "2023-04-23T15:10:28.748638Z",
     "iopub.status.busy": "2023-04-23T15:10:28.747922Z",
     "iopub.status.idle": "2023-04-23T15:10:30.142131Z",
     "shell.execute_reply": "2023-04-23T15:10:30.141219Z",
     "shell.execute_reply.started": "2023-04-23T15:10:28.748610Z"
    },
    "tags": []
   },
   "outputs": [],
   "source": [
    "import os\n",
    "\n",
    "import pytorch_lightning as pl\n",
    "import torch\n",
    "import torch.nn as nn\n",
    "import torch.nn.functional as F\n",
    "from einops import rearrange\n",
    "from einops.layers.torch import Rearrange\n",
    "from pytorch_lightning import Trainer\n",
    "from torch.utils.data import DataLoader\n",
    "from torchvision import transforms"
   ]
  },
  {
   "cell_type": "code",
   "execution_count": 3,
   "id": "b59b32ff-c658-433a-950f-79c102e879d4",
   "metadata": {
    "execution": {
     "iopub.execute_input": "2023-04-23T15:10:30.143144Z",
     "iopub.status.busy": "2023-04-23T15:10:30.142922Z",
     "iopub.status.idle": "2023-04-23T15:10:30.158911Z",
     "shell.execute_reply": "2023-04-23T15:10:30.158284Z",
     "shell.execute_reply.started": "2023-04-23T15:10:30.143128Z"
    },
    "tags": []
   },
   "outputs": [],
   "source": [
    "def rotate_videos(video, angles=[10, -10]):\n",
    "    B = video.shape[0]\n",
    "    res = []\n",
    "    _video = rearrange(video, \"b c t h w -> (b t) c h w\")\n",
    "    for _ang in angles:\n",
    "        res.append(\n",
    "            rearrange(transforms.functional.rotate(\n",
    "                _video, _ang, interpolation=transforms.InterpolationMode.BILINEAR\n",
    "            ), '(b t) c h w -> b c t h w', b=B)\n",
    "        )\n",
    "    return res"
   ]
  },
  {
   "cell_type": "code",
   "execution_count": 4,
   "id": "7038f40c-6e0c-417f-9dd1-049470af37d7",
   "metadata": {
    "execution": {
     "iopub.execute_input": "2023-04-23T15:10:30.159597Z",
     "iopub.status.busy": "2023-04-23T15:10:30.159461Z",
     "iopub.status.idle": "2023-04-23T15:10:30.177776Z",
     "shell.execute_reply": "2023-04-23T15:10:30.177185Z",
     "shell.execute_reply.started": "2023-04-23T15:10:30.159583Z"
    },
    "tags": []
   },
   "outputs": [],
   "source": [
    "class Test_time_aug:\n",
    "    def __init__(self, transform=\"ten_crop\"):\n",
    "\n",
    "        self.transform = transform\n",
    "\n",
    "        self.Crop_Flip = transforms.TenCrop(size=200)\n",
    "        self.Resize = nn.Sequential(\n",
    "            Rearrange(\"b c t h w -> (b c) t h w\"),\n",
    "            transforms.Resize((224, 224)),\n",
    "            Rearrange(\"(b c) t h w -> b c t h w\", c=3),\n",
    "        )\n",
    "\n",
    "    def aggregate(self, res):\n",
    "        final_res = {}\n",
    "        for key in res[0].keys():\n",
    "            tmp = torch.stack([_item[key] for _item in res], dim=0)\n",
    "            final_res[key] = torch.mean(tmp, dim=0)\n",
    "        return final_res\n",
    "\n",
    "    def __call__(self, model, video, audio):\n",
    "        res = []\n",
    "        res.append(model(video, audio))\n",
    "\n",
    "        if self.transform == \"ten_crop\":\n",
    "            crop_flips = self.Crop_Flip(video)\n",
    "            for _video in crop_flips:\n",
    "                _video = self.Resize(_video)\n",
    "                res.append(model(_video, audio))\n",
    "        elif self.transform == 'flip':\n",
    "            res.append(model(transforms.functional.hflip(video), audio))\n",
    "        elif self.transform == 'flip+rotate':\n",
    "            for i in range(2):\n",
    "                for j in range(2):\n",
    "                    if i == 0:\n",
    "                        _video = video\n",
    "                    else:\n",
    "                        _video = transforms.functional.hflip(video)\n",
    "                    if j == 0:\n",
    "                        res.append(model(_video, audio))\n",
    "                    else:\n",
    "                        r_videos = rotate_videos(_video)\n",
    "                        for _video in r_videos:\n",
    "                            res.append(model(_video, audio))\n",
    "                    \n",
    "        return self.aggregate(res)"
   ]
  },
  {
   "cell_type": "code",
   "execution_count": 5,
   "id": "ac4ef64c-c547-4716-9d32-9890acba1392",
   "metadata": {
    "execution": {
     "iopub.execute_input": "2023-04-23T15:10:30.178374Z",
     "iopub.status.busy": "2023-04-23T15:10:30.178246Z",
     "iopub.status.idle": "2023-04-23T15:10:30.275919Z",
     "shell.execute_reply": "2023-04-23T15:10:30.275530Z",
     "shell.execute_reply.started": "2023-04-23T15:10:30.178362Z"
    },
    "tags": [
     "active-ipynb"
    ]
   },
   "outputs": [
    {
     "data": {
      "text/plain": [
       "{'test': tensor([[0.5306, 0.5775],\n",
       "         [0.4730, 0.5465]])}"
      ]
     },
     "execution_count": 5,
     "metadata": {},
     "output_type": "execute_result"
    }
   ],
   "source": [
    "def model(video, audio):\n",
    "    res = {}\n",
    "    res[\"test\"] = torch.rand(2, 2)\n",
    "    return res\n",
    "\n",
    "\n",
    "tta = Test_time_aug(transform=\"flip+rotate\")\n",
    "video = torch.rand(2, 3, 10, 224, 224)\n",
    "audio = torch.rand(2, 1, 48000)\n",
    "tta(model, video, audio)"
   ]
  }
 ],
 "metadata": {
  "jupytext": {
   "formats": "ipynb,py:light"
  },
  "kernelspec": {
   "display_name": "Python 3 (ipykernel)",
   "language": "python",
   "name": "python3"
  },
  "language_info": {
   "codemirror_mode": {
    "name": "ipython",
    "version": 3
   },
   "file_extension": ".py",
   "mimetype": "text/x-python",
   "name": "python",
   "nbconvert_exporter": "python",
   "pygments_lexer": "ipython3",
   "version": "3.9.13"
  }
 },
 "nbformat": 4,
 "nbformat_minor": 5
}
